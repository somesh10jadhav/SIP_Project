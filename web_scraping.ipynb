{
 "cells": [
  {
   "cell_type": "code",
   "execution_count": 1,
   "id": "e9bd955c-ab8f-4616-95bd-6bba3586e25b",
   "metadata": {},
   "outputs": [
    {
     "name": "stdout",
     "output_type": "stream",
     "text": [
      "Collecting google-play-scraper\n",
      "  Downloading google_play_scraper-1.2.2-py3-none-any.whl (28 kB)\n",
      "Installing collected packages: google-play-scraper\n",
      "Successfully installed google-play-scraper-1.2.2\n"
     ]
    }
   ],
   "source": [
    "#Installing google-play-scraper\n",
    "! pip install google-play-scraper"
   ]
  },
  {
   "cell_type": "code",
   "execution_count": 1,
   "id": "a21726d4-3ae4-4a69-a75c-47cf076fc412",
   "metadata": {},
   "outputs": [],
   "source": [
    "from google_play_scraper import Sort, reviews_all\n",
    "import pandas as pd\n",
    "import numpy as np"
   ]
  },
  {
   "cell_type": "markdown",
   "id": "0322fb6d-59a4-4b35-ba52-8586a4359ff4",
   "metadata": {},
   "source": [
    "<h1> Scraping Reviews </h1>\n",
    "    <p> It is"
   ]
  },
  {
   "cell_type": "code",
   "execution_count": 24,
   "id": "977befd1-f5c8-44f1-a3bc-91e08c60aebf",
   "metadata": {},
   "outputs": [],
   "source": [
    "#It is taking too much time to scrape all 1.8 Million Reviews\n",
    "#So \n",
    "\n",
    "\n",
    "#Importing 1 star reviews \n",
    "result = reviews_all(\n",
    "    'com.byjus.thelearningapp',\n",
    "    sleep_milliseconds=0.010, # defaults to 0\n",
    "    lang='en', # defaults to 'en'\n",
    "    country='in', # defaults to 'us'\n",
    "    sort=Sort.MOST_RELEVANT, # defaults to Sort.MOST_RELEVANT\n",
    "    filter_score_with= 1 # defaults to None(means all score)\n",
    ")\n",
    "\n",
    "result = pd.DataFrame(result)\n",
    "\n",
    "byjus_ps = pd.DataFrame()\n",
    "byjus_ps['reviews']=result['content']\n",
    "byjus_ps['score']= result['score']"
   ]
  },
  {
   "cell_type": "code",
   "execution_count": 27,
   "id": "f4e7c01c-9e07-47e0-b76e-068d273026cf",
   "metadata": {},
   "outputs": [],
   "source": [
    "#Saving 1 star reviews to csv\n",
    "result.to_csv('/Users/Jadhav/Desktop/SIP Project/df1.csv')"
   ]
  },
  {
   "cell_type": "code",
   "execution_count": null,
   "id": "f6faba33-19db-4d9e-9993-aad508c67579",
   "metadata": {},
   "outputs": [],
   "source": [
    "result = reviews_all(\n",
    "    'com.byjus.thelearningapp',\n",
    "    sleep_milliseconds=0.010, # defaults to 0\n",
    "    lang='en', # defaults to 'en'\n",
    "    country='in', # defaults to 'us'\n",
    "    sort=Sort.MOST_RELEVANT, # defaults to Sort.MOST_RELEVANT\n",
    "    filter_score_with= 2 # defaults to None(means all score)\n",
    ")\n",
    "\n",
    "result = pd.DataFrame(result)\n",
    "\n",
    "byjus_ps = pd.DataFrame()\n",
    "byjus_ps['reviews']=result['content']\n",
    "byjus_ps['score']= result['score']"
   ]
  },
  {
   "cell_type": "code",
   "execution_count": null,
   "id": "989a6465-7a83-4450-9fbf-2125cee06953",
   "metadata": {},
   "outputs": [],
   "source": [
    "result.to_csv('/Users/Jadhav/Desktop/SIP Project/df2.csv')"
   ]
  },
  {
   "cell_type": "code",
   "execution_count": null,
   "id": "e0394d70-99fa-47ab-b507-1bfd7bf6b8e5",
   "metadata": {},
   "outputs": [],
   "source": [
    "result = reviews_all(\n",
    "    'com.byjus.thelearningapp',\n",
    "    sleep_milliseconds=0.010, # defaults to 0\n",
    "    lang='en', # defaults to 'en'\n",
    "    country='in', # defaults to 'us'\n",
    "    sort=Sort.MOST_RELEVANT, # defaults to Sort.MOST_RELEVANT\n",
    "    filter_score_with= 3 # defaults to None(means all score)\n",
    ")\n",
    "\n",
    "result = pd.DataFrame(result)\n",
    "\n",
    "byjus_ps = pd.DataFrame()\n",
    "byjus_ps['reviews']=result['content']\n",
    "byjus_ps['score']= result['score']"
   ]
  },
  {
   "cell_type": "code",
   "execution_count": null,
   "id": "fe1bba50-4b77-4d95-a1e6-e9cb862e0eaa",
   "metadata": {},
   "outputs": [],
   "source": [
    "result.to_csv('/Users/Jadhav/Desktop/SIP Project/df3.csv')"
   ]
  },
  {
   "cell_type": "code",
   "execution_count": null,
   "id": "bd30e97f-65ff-4767-b7fa-0034ca451dc9",
   "metadata": {},
   "outputs": [],
   "source": [
    "result = reviews_all(\n",
    "    'com.byjus.thelearningapp',\n",
    "    sleep_milliseconds=0.010, # defaults to 0\n",
    "    lang='en', # defaults to 'en'\n",
    "    country='in', # defaults to 'us'\n",
    "    sort=Sort.MOST_RELEVANT, # defaults to Sort.MOST_RELEVANT\n",
    "    filter_score_with= 4 # defaults to None(means all score)\n",
    ")\n",
    "\n",
    "result = pd.DataFrame(result)\n",
    "\n",
    "byjus_ps = pd.DataFrame()\n",
    "byjus_ps['reviews']=result['content']\n",
    "byjus_ps['score']= result['score']"
   ]
  },
  {
   "cell_type": "code",
   "execution_count": 22,
   "id": "7ad260ed-bdbe-44aa-9eed-5f9c2a2673f4",
   "metadata": {},
   "outputs": [],
   "source": [
    "result.to_csv('/Users/Jadhav/Desktop/SIP Project/df4.csv')"
   ]
  },
  {
   "cell_type": "code",
   "execution_count": 2,
   "id": "e263ea9f-09fb-4a34-b8cb-3082e628a264",
   "metadata": {},
   "outputs": [],
   "source": [
    "result = reviews_all(\n",
    "    'com.byjus.thelearningapp',\n",
    "    sleep_milliseconds=0.010, # defaults to 0\n",
    "    lang='en', # defaults to 'en'\n",
    "    country='in', # defaults to 'us'\n",
    "    sort=Sort.MOST_RELEVANT, # defaults to Sort.MOST_RELEVANT\n",
    "    filter_score_with= 5 # defaults to None(means all score)\n",
    ")\n",
    "\n",
    "result = pd.DataFrame(result)\n",
    "\n",
    "byjus_ps = pd.DataFrame()\n",
    "byjus_ps['reviews']=result['content']\n",
    "byjus_ps['score']= result['score']"
   ]
  },
  {
   "cell_type": "code",
   "execution_count": 5,
   "id": "2ccd32ac-9570-4b98-a7de-6b9bea1b517c",
   "metadata": {},
   "outputs": [],
   "source": [
    "result.to_csv('/Users/Jadhav/Desktop/SIP Project/df5.csv')"
   ]
  },
  {
   "cell_type": "code",
   "execution_count": 4,
   "id": "06c9c11f-f6ba-4be1-88a0-238d1950d423",
   "metadata": {},
   "outputs": [
    {
     "data": {
      "text/plain": [
       "(157807, 10)"
      ]
     },
     "execution_count": 4,
     "metadata": {},
     "output_type": "execute_result"
    }
   ],
   "source": [
    "result.shape"
   ]
  },
  {
   "cell_type": "code",
   "execution_count": null,
   "id": "efe645e4-e9f6-45e8-97cf-17d111571b55",
   "metadata": {},
   "outputs": [],
   "source": []
  }
 ],
 "metadata": {
  "kernelspec": {
   "display_name": "Python 3",
   "language": "python",
   "name": "python3"
  },
  "language_info": {
   "codemirror_mode": {
    "name": "ipython",
    "version": 3
   },
   "file_extension": ".py",
   "mimetype": "text/x-python",
   "name": "python",
   "nbconvert_exporter": "python",
   "pygments_lexer": "ipython3",
   "version": "3.8.8"
  }
 },
 "nbformat": 4,
 "nbformat_minor": 5
}
