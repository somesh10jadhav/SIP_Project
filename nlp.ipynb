{
 "cells": [
  {
   "cell_type": "markdown",
   "id": "5ced5296-2031-405f-8c2f-102006f69fcf",
   "metadata": {},
   "source": [
    "# Package Importing Zone"
   ]
  },
  {
   "cell_type": "code",
   "execution_count": 2,
   "id": "4ce6aa5b-fdc0-45bf-a1a9-8a3a04720b7e",
   "metadata": {},
   "outputs": [],
   "source": [
    "import pandas as pd\n",
    "import numpy as np\n",
    "from matplotlib import pyplot as plt\n",
    "import seaborn as sns\n",
    "import regex as re\n",
    "\n",
    "from nltk.sentiment import SentimentIntensityAnalyzer\n",
    "from tqdm.notebook import tqdm\n",
    "\n",
    "import sklearn\n",
    "import nltk\n",
    "from sklearn.feature_extraction.text import CountVectorizer\n",
    "\n",
    "from nltk.tokenize import sent_tokenize, word_tokenize\n",
    "from nltk.corpus import stopwords\n",
    "import string\n",
    "from nltk.tokenize import PunktSentenceTokenizer\n",
    "from nltk.stem import PorterStemmer\n",
    "from nltk.stem import WordNetLemmatizer\n",
    "from nltk.corpus import wordnet\n",
    "import random\n",
    "\n",
    "from tqdm import tqdm"
   ]
  },
  {
   "cell_type": "markdown",
   "id": "df4aa559-420b-43d6-9298-f863bf31051c",
   "metadata": {},
   "source": [
    "# File Importing Zone"
   ]
  },
  {
   "cell_type": "code",
   "execution_count": 3,
   "id": "b2b2135d-9874-4314-b507-710bbb69fa74",
   "metadata": {},
   "outputs": [],
   "source": [
    "#Importing five review files\n",
    "df1 = pd.read_csv(\"/Users/Jadhav/Desktop/SIP Project/data/df1.csv\")\n",
    "df2 = pd.read_csv(\"/Users/Jadhav/Desktop/SIP Project/data/df2.csv\")\n",
    "df3 = pd.read_csv(\"/Users/Jadhav/Desktop/SIP Project/data/df3.csv\")\n",
    "df4 = pd.read_csv(\"/Users/Jadhav/Desktop/SIP Project/data/df4.csv\")\n",
    "df5 = pd.read_csv(\"/Users/Jadhav/Desktop/SIP Project/data/df5.csv\")"
   ]
  },
  {
   "cell_type": "markdown",
   "id": "745bde8d-e4a3-4c77-9669-d50ce42eb652",
   "metadata": {},
   "source": [
    "# Creating One Master DataFrame"
   ]
  },
  {
   "cell_type": "code",
   "execution_count": 4,
   "id": "ce99fda2-1d83-43c7-8d69-0d42838983c2",
   "metadata": {},
   "outputs": [],
   "source": [
    "frames_list = [df1,df2,df3,df4,df5]\n",
    "df = pd.concat(frames_list)"
   ]
  },
  {
   "cell_type": "code",
   "execution_count": 5,
   "id": "a2657ab4-9ffd-4ab2-a4d7-194c7168ba62",
   "metadata": {},
   "outputs": [],
   "source": [
    "# Saving the combined df in csv file\n",
    "# df.to_csv(\"/Users/Jadhav/Desktop/SIP Project/data/df.csv\")"
   ]
  },
  {
   "cell_type": "markdown",
   "id": "cd1b5784-2019-4a34-aecf-1395234c9673",
   "metadata": {},
   "source": [
    "# Basic EDA"
   ]
  },
  {
   "cell_type": "markdown",
   "id": "5ca265e3-799f-4809-97dc-db75c6bffa58",
   "metadata": {},
   "source": [
    "## Checking First & Last Rows"
   ]
  },
  {
   "cell_type": "code",
   "execution_count": 6,
   "id": "92a045ed-2e99-44dd-922d-c947e6b68ffc",
   "metadata": {},
   "outputs": [
    {
     "data": {
      "text/html": [
       "<div>\n",
       "<style scoped>\n",
       "    .dataframe tbody tr th:only-of-type {\n",
       "        vertical-align: middle;\n",
       "    }\n",
       "\n",
       "    .dataframe tbody tr th {\n",
       "        vertical-align: top;\n",
       "    }\n",
       "\n",
       "    .dataframe thead th {\n",
       "        text-align: right;\n",
       "    }\n",
       "</style>\n",
       "<table border=\"1\" class=\"dataframe\">\n",
       "  <thead>\n",
       "    <tr style=\"text-align: right;\">\n",
       "      <th></th>\n",
       "      <th>Unnamed: 0</th>\n",
       "      <th>reviewId</th>\n",
       "      <th>userName</th>\n",
       "      <th>userImage</th>\n",
       "      <th>content</th>\n",
       "      <th>score</th>\n",
       "      <th>thumbsUpCount</th>\n",
       "      <th>reviewCreatedVersion</th>\n",
       "      <th>at</th>\n",
       "      <th>replyContent</th>\n",
       "      <th>repliedAt</th>\n",
       "    </tr>\n",
       "  </thead>\n",
       "  <tbody>\n",
       "    <tr>\n",
       "      <th>0</th>\n",
       "      <td>0</td>\n",
       "      <td>472b3be7-bd4f-43bc-b615-46d048c15e01</td>\n",
       "      <td>Tanya Pathak</td>\n",
       "      <td>https://play-lh.googleusercontent.com/a-/AD5-W...</td>\n",
       "      <td>The explanation is very nice through animation...</td>\n",
       "      <td>1</td>\n",
       "      <td>39</td>\n",
       "      <td>10.13.0.15142</td>\n",
       "      <td>2022-12-11 11:22:32</td>\n",
       "      <td>NaN</td>\n",
       "      <td>NaN</td>\n",
       "    </tr>\n",
       "    <tr>\n",
       "      <th>1</th>\n",
       "      <td>1</td>\n",
       "      <td>7fd8bcf0-296b-4db5-84dd-2ef67e65f242</td>\n",
       "      <td>Soumyadeep Podder</td>\n",
       "      <td>https://play-lh.googleusercontent.com/a-/AD5-W...</td>\n",
       "      <td>Third class app.The only problem is that I get...</td>\n",
       "      <td>1</td>\n",
       "      <td>4095</td>\n",
       "      <td>10.9.2.14517</td>\n",
       "      <td>2022-10-06 20:53:10</td>\n",
       "      <td>We regret that our team reached out to you mul...</td>\n",
       "      <td>2022-10-07 15:00:55</td>\n",
       "    </tr>\n",
       "    <tr>\n",
       "      <th>2</th>\n",
       "      <td>2</td>\n",
       "      <td>adcd1cb8-1ff4-4e34-b1a7-0ff1923cf733</td>\n",
       "      <td>ASHUTOSH KUMAR SINGH</td>\n",
       "      <td>https://play-lh.googleusercontent.com/a-/AD5-W...</td>\n",
       "      <td>Third class app. The only problem is that get ...</td>\n",
       "      <td>1</td>\n",
       "      <td>329</td>\n",
       "      <td>7.5.1.9945</td>\n",
       "      <td>2022-11-19 19:35:14</td>\n",
       "      <td>\\n\\nWe regret that our team reached out to you...</td>\n",
       "      <td>2022-11-22 11:41:26</td>\n",
       "    </tr>\n",
       "    <tr>\n",
       "      <th>3</th>\n",
       "      <td>3</td>\n",
       "      <td>90a9ad95-b225-4321-9e30-97c52577f764</td>\n",
       "      <td>Disha Sharma</td>\n",
       "      <td>https://play-lh.googleusercontent.com/a-/AD5-W...</td>\n",
       "      <td>The new update is causing lot of problems in r...</td>\n",
       "      <td>1</td>\n",
       "      <td>6934</td>\n",
       "      <td>10.4.0.13552</td>\n",
       "      <td>2022-06-26 17:39:08</td>\n",
       "      <td>Apologies for the inconvenience. Please drop u...</td>\n",
       "      <td>2022-06-28 14:41:02</td>\n",
       "    </tr>\n",
       "    <tr>\n",
       "      <th>4</th>\n",
       "      <td>4</td>\n",
       "      <td>bfec2bc9-b97a-44a0-9530-245fe2673857</td>\n",
       "      <td>A Google user</td>\n",
       "      <td>https://play-lh.googleusercontent.com/EGemoI2N...</td>\n",
       "      <td>I am largely dissapointed by the quality of vi...</td>\n",
       "      <td>1</td>\n",
       "      <td>587</td>\n",
       "      <td>5.6.0.7484</td>\n",
       "      <td>2020-04-03 20:32:43</td>\n",
       "      <td>Thank you for your feedback. We recommend rein...</td>\n",
       "      <td>2020-04-06 22:57:32</td>\n",
       "    </tr>\n",
       "  </tbody>\n",
       "</table>\n",
       "</div>"
      ],
      "text/plain": [
       "   Unnamed: 0                              reviewId              userName  \\\n",
       "0           0  472b3be7-bd4f-43bc-b615-46d048c15e01          Tanya Pathak   \n",
       "1           1  7fd8bcf0-296b-4db5-84dd-2ef67e65f242     Soumyadeep Podder   \n",
       "2           2  adcd1cb8-1ff4-4e34-b1a7-0ff1923cf733  ASHUTOSH KUMAR SINGH   \n",
       "3           3  90a9ad95-b225-4321-9e30-97c52577f764          Disha Sharma   \n",
       "4           4  bfec2bc9-b97a-44a0-9530-245fe2673857         A Google user   \n",
       "\n",
       "                                           userImage  \\\n",
       "0  https://play-lh.googleusercontent.com/a-/AD5-W...   \n",
       "1  https://play-lh.googleusercontent.com/a-/AD5-W...   \n",
       "2  https://play-lh.googleusercontent.com/a-/AD5-W...   \n",
       "3  https://play-lh.googleusercontent.com/a-/AD5-W...   \n",
       "4  https://play-lh.googleusercontent.com/EGemoI2N...   \n",
       "\n",
       "                                             content  score  thumbsUpCount  \\\n",
       "0  The explanation is very nice through animation...      1             39   \n",
       "1  Third class app.The only problem is that I get...      1           4095   \n",
       "2  Third class app. The only problem is that get ...      1            329   \n",
       "3  The new update is causing lot of problems in r...      1           6934   \n",
       "4  I am largely dissapointed by the quality of vi...      1            587   \n",
       "\n",
       "  reviewCreatedVersion                   at  \\\n",
       "0        10.13.0.15142  2022-12-11 11:22:32   \n",
       "1         10.9.2.14517  2022-10-06 20:53:10   \n",
       "2           7.5.1.9945  2022-11-19 19:35:14   \n",
       "3         10.4.0.13552  2022-06-26 17:39:08   \n",
       "4           5.6.0.7484  2020-04-03 20:32:43   \n",
       "\n",
       "                                        replyContent            repliedAt  \n",
       "0                                                NaN                  NaN  \n",
       "1  We regret that our team reached out to you mul...  2022-10-07 15:00:55  \n",
       "2  \\n\\nWe regret that our team reached out to you...  2022-11-22 11:41:26  \n",
       "3  Apologies for the inconvenience. Please drop u...  2022-06-28 14:41:02  \n",
       "4  Thank you for your feedback. We recommend rein...  2020-04-06 22:57:32  "
      ]
     },
     "execution_count": 6,
     "metadata": {},
     "output_type": "execute_result"
    }
   ],
   "source": [
    "#First rows are 1 Star Reviews\n",
    "df.head()"
   ]
  },
  {
   "cell_type": "code",
   "execution_count": 7,
   "id": "199ef7bd-9fdb-4618-a601-4aab17cf676b",
   "metadata": {},
   "outputs": [
    {
     "data": {
      "text/html": [
       "<div>\n",
       "<style scoped>\n",
       "    .dataframe tbody tr th:only-of-type {\n",
       "        vertical-align: middle;\n",
       "    }\n",
       "\n",
       "    .dataframe tbody tr th {\n",
       "        vertical-align: top;\n",
       "    }\n",
       "\n",
       "    .dataframe thead th {\n",
       "        text-align: right;\n",
       "    }\n",
       "</style>\n",
       "<table border=\"1\" class=\"dataframe\">\n",
       "  <thead>\n",
       "    <tr style=\"text-align: right;\">\n",
       "      <th></th>\n",
       "      <th>Unnamed: 0</th>\n",
       "      <th>reviewId</th>\n",
       "      <th>userName</th>\n",
       "      <th>userImage</th>\n",
       "      <th>content</th>\n",
       "      <th>score</th>\n",
       "      <th>thumbsUpCount</th>\n",
       "      <th>reviewCreatedVersion</th>\n",
       "      <th>at</th>\n",
       "      <th>replyContent</th>\n",
       "      <th>repliedAt</th>\n",
       "    </tr>\n",
       "  </thead>\n",
       "  <tbody>\n",
       "    <tr>\n",
       "      <th>157802</th>\n",
       "      <td>157802</td>\n",
       "      <td>1ffbe5d2-b6f6-4587-8e45-444e257928c7</td>\n",
       "      <td>Yogesh Kumawat</td>\n",
       "      <td>https://play-lh.googleusercontent.com/a/AEdFTp...</td>\n",
       "      <td>MONIKA kumawat</td>\n",
       "      <td>5</td>\n",
       "      <td>0</td>\n",
       "      <td>6.1.2.8367</td>\n",
       "      <td>2020-07-25 12:46:52</td>\n",
       "      <td>NaN</td>\n",
       "      <td>NaN</td>\n",
       "    </tr>\n",
       "    <tr>\n",
       "      <th>157803</th>\n",
       "      <td>157803</td>\n",
       "      <td>332c8ef1-f3a2-4a92-9b20-1e7fe426c452</td>\n",
       "      <td>Pavan_Kumar _</td>\n",
       "      <td>https://play-lh.googleusercontent.com/a-/AD5-W...</td>\n",
       "      <td>super explaination</td>\n",
       "      <td>5</td>\n",
       "      <td>0</td>\n",
       "      <td>6.1.2.8367</td>\n",
       "      <td>2020-07-31 18:00:05</td>\n",
       "      <td>\"Thank you very much :). We are glad to be a p...</td>\n",
       "      <td>2020-08-03 18:09:49</td>\n",
       "    </tr>\n",
       "    <tr>\n",
       "      <th>157804</th>\n",
       "      <td>157804</td>\n",
       "      <td>8aef3ebf-e47c-47e8-bef4-a3da8a2c083a</td>\n",
       "      <td>Zahid Pahlavi</td>\n",
       "      <td>https://play-lh.googleusercontent.com/a-/AD5-W...</td>\n",
       "      <td>Nise app</td>\n",
       "      <td>5</td>\n",
       "      <td>0</td>\n",
       "      <td>6.1.2.8367</td>\n",
       "      <td>2020-07-14 11:52:48</td>\n",
       "      <td>Thank you so much for reviewing our app:). Kee...</td>\n",
       "      <td>2020-07-17 10:56:31</td>\n",
       "    </tr>\n",
       "    <tr>\n",
       "      <th>157805</th>\n",
       "      <td>157805</td>\n",
       "      <td>45a7d8de-adde-4891-879a-62ec1af74929</td>\n",
       "      <td>ayush malode</td>\n",
       "      <td>https://play-lh.googleusercontent.com/a-/AD5-W...</td>\n",
       "      <td>Exce Lent</td>\n",
       "      <td>5</td>\n",
       "      <td>0</td>\n",
       "      <td>6.1.2.8367</td>\n",
       "      <td>2020-07-30 07:46:24</td>\n",
       "      <td>NaN</td>\n",
       "      <td>NaN</td>\n",
       "    </tr>\n",
       "    <tr>\n",
       "      <th>157806</th>\n",
       "      <td>157806</td>\n",
       "      <td>dd39ece2-0271-46e8-9887-2d63a99342a0</td>\n",
       "      <td>Mandeep</td>\n",
       "      <td>https://play-lh.googleusercontent.com/a/AEdFTp...</td>\n",
       "      <td>Bahattren app</td>\n",
       "      <td>5</td>\n",
       "      <td>0</td>\n",
       "      <td>6.1.2.8367</td>\n",
       "      <td>2020-07-29 13:05:51</td>\n",
       "      <td>NaN</td>\n",
       "      <td>NaN</td>\n",
       "    </tr>\n",
       "  </tbody>\n",
       "</table>\n",
       "</div>"
      ],
      "text/plain": [
       "        Unnamed: 0                              reviewId        userName  \\\n",
       "157802      157802  1ffbe5d2-b6f6-4587-8e45-444e257928c7  Yogesh Kumawat   \n",
       "157803      157803  332c8ef1-f3a2-4a92-9b20-1e7fe426c452   Pavan_Kumar _   \n",
       "157804      157804  8aef3ebf-e47c-47e8-bef4-a3da8a2c083a   Zahid Pahlavi   \n",
       "157805      157805  45a7d8de-adde-4891-879a-62ec1af74929    ayush malode   \n",
       "157806      157806  dd39ece2-0271-46e8-9887-2d63a99342a0         Mandeep   \n",
       "\n",
       "                                                userImage             content  \\\n",
       "157802  https://play-lh.googleusercontent.com/a/AEdFTp...      MONIKA kumawat   \n",
       "157803  https://play-lh.googleusercontent.com/a-/AD5-W...  super explaination   \n",
       "157804  https://play-lh.googleusercontent.com/a-/AD5-W...            Nise app   \n",
       "157805  https://play-lh.googleusercontent.com/a-/AD5-W...           Exce Lent   \n",
       "157806  https://play-lh.googleusercontent.com/a/AEdFTp...       Bahattren app   \n",
       "\n",
       "        score  thumbsUpCount reviewCreatedVersion                   at  \\\n",
       "157802      5              0           6.1.2.8367  2020-07-25 12:46:52   \n",
       "157803      5              0           6.1.2.8367  2020-07-31 18:00:05   \n",
       "157804      5              0           6.1.2.8367  2020-07-14 11:52:48   \n",
       "157805      5              0           6.1.2.8367  2020-07-30 07:46:24   \n",
       "157806      5              0           6.1.2.8367  2020-07-29 13:05:51   \n",
       "\n",
       "                                             replyContent            repliedAt  \n",
       "157802                                                NaN                  NaN  \n",
       "157803  \"Thank you very much :). We are glad to be a p...  2020-08-03 18:09:49  \n",
       "157804  Thank you so much for reviewing our app:). Kee...  2020-07-17 10:56:31  \n",
       "157805                                                NaN                  NaN  \n",
       "157806                                                NaN                  NaN  "
      ]
     },
     "execution_count": 7,
     "metadata": {},
     "output_type": "execute_result"
    }
   ],
   "source": [
    "#Last rows are 5 Star Reviews\n",
    "df.tail()"
   ]
  },
  {
   "cell_type": "markdown",
   "id": "f920a061-15f8-4f81-b685-9b92987f35e7",
   "metadata": {},
   "source": [
    "## Checking Shape of df"
   ]
  },
  {
   "cell_type": "code",
   "execution_count": 8,
   "id": "5885ace1-4220-4ca3-b17b-16ea2daa97c1",
   "metadata": {},
   "outputs": [
    {
     "data": {
      "text/plain": [
       "(289182, 11)"
      ]
     },
     "execution_count": 8,
     "metadata": {},
     "output_type": "execute_result"
    }
   ],
   "source": [
    "df.shape"
   ]
  },
  {
   "cell_type": "code",
   "execution_count": 9,
   "id": "f58e9050-975e-4971-8d7b-e660a54eff88",
   "metadata": {},
   "outputs": [
    {
     "data": {
      "text/html": [
       "<div>\n",
       "<style scoped>\n",
       "    .dataframe tbody tr th:only-of-type {\n",
       "        vertical-align: middle;\n",
       "    }\n",
       "\n",
       "    .dataframe tbody tr th {\n",
       "        vertical-align: top;\n",
       "    }\n",
       "\n",
       "    .dataframe thead th {\n",
       "        text-align: right;\n",
       "    }\n",
       "</style>\n",
       "<table border=\"1\" class=\"dataframe\">\n",
       "  <thead>\n",
       "    <tr style=\"text-align: right;\">\n",
       "      <th></th>\n",
       "      <th>Unnamed: 0</th>\n",
       "      <th>score</th>\n",
       "      <th>thumbsUpCount</th>\n",
       "    </tr>\n",
       "  </thead>\n",
       "  <tbody>\n",
       "    <tr>\n",
       "      <th>count</th>\n",
       "      <td>289182.000000</td>\n",
       "      <td>289182.000000</td>\n",
       "      <td>289182.000000</td>\n",
       "    </tr>\n",
       "    <tr>\n",
       "      <th>mean</th>\n",
       "      <td>52918.967571</td>\n",
       "      <td>3.847549</td>\n",
       "      <td>2.170851</td>\n",
       "    </tr>\n",
       "    <tr>\n",
       "      <th>std</th>\n",
       "      <td>45263.633783</td>\n",
       "      <td>1.553659</td>\n",
       "      <td>63.622098</td>\n",
       "    </tr>\n",
       "    <tr>\n",
       "      <th>min</th>\n",
       "      <td>0.000000</td>\n",
       "      <td>1.000000</td>\n",
       "      <td>0.000000</td>\n",
       "    </tr>\n",
       "    <tr>\n",
       "      <th>25%</th>\n",
       "      <td>15630.250000</td>\n",
       "      <td>3.000000</td>\n",
       "      <td>0.000000</td>\n",
       "    </tr>\n",
       "    <tr>\n",
       "      <th>50%</th>\n",
       "      <td>38409.000000</td>\n",
       "      <td>5.000000</td>\n",
       "      <td>0.000000</td>\n",
       "    </tr>\n",
       "    <tr>\n",
       "      <th>75%</th>\n",
       "      <td>85510.750000</td>\n",
       "      <td>5.000000</td>\n",
       "      <td>0.000000</td>\n",
       "    </tr>\n",
       "    <tr>\n",
       "      <th>max</th>\n",
       "      <td>157806.000000</td>\n",
       "      <td>5.000000</td>\n",
       "      <td>10783.000000</td>\n",
       "    </tr>\n",
       "  </tbody>\n",
       "</table>\n",
       "</div>"
      ],
      "text/plain": [
       "          Unnamed: 0          score  thumbsUpCount\n",
       "count  289182.000000  289182.000000  289182.000000\n",
       "mean    52918.967571       3.847549       2.170851\n",
       "std     45263.633783       1.553659      63.622098\n",
       "min         0.000000       1.000000       0.000000\n",
       "25%     15630.250000       3.000000       0.000000\n",
       "50%     38409.000000       5.000000       0.000000\n",
       "75%     85510.750000       5.000000       0.000000\n",
       "max    157806.000000       5.000000   10783.000000"
      ]
     },
     "execution_count": 9,
     "metadata": {},
     "output_type": "execute_result"
    }
   ],
   "source": [
    "df.describe()"
   ]
  },
  {
   "cell_type": "markdown",
   "id": "73cabbeb-8d81-420d-9c56-df5687e165ad",
   "metadata": {},
   "source": [
    "<b>We have total 2,89,182 Reviews"
   ]
  },
  {
   "cell_type": "code",
   "execution_count": 10,
   "id": "402cb681-49b6-4ce9-82ae-4f7beccb5e67",
   "metadata": {},
   "outputs": [
    {
     "data": {
      "text/plain": [
       "score\n",
       "1     54253\n",
       "2      9772\n",
       "3     19590\n",
       "4     47760\n",
       "5    157807\n",
       "Name: reviewId, dtype: int64"
      ]
     },
     "execution_count": 10,
     "metadata": {},
     "output_type": "execute_result"
    }
   ],
   "source": [
    "df.groupby('score').count()['reviewId']"
   ]
  },
  {
   "cell_type": "code",
   "execution_count": 11,
   "id": "83f4e19e-410d-454e-8415-b55e1b0d877f",
   "metadata": {},
   "outputs": [
    {
     "data": {
      "text/plain": [
       "<AxesSubplot:xlabel='score'>"
      ]
     },
     "execution_count": 11,
     "metadata": {},
     "output_type": "execute_result"
    },
    {
     "data": {
      "image/png": "[encoded data removed]",
      "text/plain": [
       "<Figure size 432x288 with 1 Axes>"
      ]
     },
     "metadata": {
      "needs_background": "light"
     },
     "output_type": "display_data"
    }
   ],
   "source": [
    "df.groupby('score').count()['reviewId'].plot(kind='bar')"
   ]
  },
  {
   "cell_type": "markdown",
   "id": "717c0e3a-6d32-47af-82d3-3744d8087d34",
   "metadata": {},
   "source": [
    "<b> Above figure shows that we have very high number of 5 star reviews"
   ]
  },
  {
   "cell_type": "markdown",
   "id": "dd7ef6df-2fe8-4288-97b0-b53c9d9c9769",
   "metadata": {},
   "source": [
    "# Checking total number of users who commented"
   ]
  },
  {
   "cell_type": "code",
   "execution_count": 12,
   "id": "4b95b865-6a0b-4e62-b19f-af15bf4c7297",
   "metadata": {},
   "outputs": [],
   "source": [
    "# Creating a list of all users\n",
    "users = list(df['userName'].unique())\n",
    "users.sort()"
   ]
  },
  {
   "cell_type": "code",
   "execution_count": 13,
   "id": "c391ca6c-3103-495c-80ee-c69295a32c12",
   "metadata": {},
   "outputs": [
    {
     "data": {
      "text/plain": [
       "130526"
      ]
     },
     "execution_count": 13,
     "metadata": {},
     "output_type": "execute_result"
    }
   ],
   "source": [
    "# Number of users\n",
    "len(users)"
   ]
  },
  {
   "cell_type": "markdown",
   "id": "dd56ae7a-77a4-4e5c-bc8b-8b337f16b0bf",
   "metadata": {},
   "source": [
    "<b> We have total 1,30,526 unique users"
   ]
  },
  {
   "cell_type": "markdown",
   "id": "839e8a4d-9dd7-4204-aaeb-f9cc6fc4262d",
   "metadata": {},
   "source": [
    "# Checking if there is a user named Byjus"
   ]
  },
  {
   "cell_type": "code",
   "execution_count": 14,
   "id": "25a36151-96da-4c55-b793-9a1f20a64c7b",
   "metadata": {},
   "outputs": [],
   "source": [
    "r = re.compile(r'Byju')"
   ]
  },
  {
   "cell_type": "code",
   "execution_count": 15,
   "id": "7cee58aa-9b34-464b-83d7-12228ea0804a",
   "metadata": {},
   "outputs": [],
   "source": [
    "newlist = list(filter(r.match, users))"
   ]
  },
  {
   "cell_type": "code",
   "execution_count": 16,
   "id": "90cfb7b2-426a-45c5-8357-dd426adb00de",
   "metadata": {},
   "outputs": [
    {
     "data": {
      "text/plain": [
       "['Byju,s Learning', 'Byjus Abi', 'Byjus royal K-11']"
      ]
     },
     "execution_count": 16,
     "metadata": {},
     "output_type": "execute_result"
    }
   ],
   "source": [
    "newlist"
   ]
  },
  {
   "cell_type": "markdown",
   "id": "bd2fa91b-746b-497b-b56f-3597e089b145",
   "metadata": {},
   "source": [
    "<b> There are 3 names with name Byju's and they seem fakeIds"
   ]
  },
  {
   "cell_type": "markdown",
   "id": "747793bf-342a-4c5b-8294-a53f6a939621",
   "metadata": {},
   "source": [
    "# Data Cleaning"
   ]
  },
  {
   "cell_type": "markdown",
   "id": "445276fd-7d58-419a-b243-48557527660d",
   "metadata": {},
   "source": [
    "## Dropping Unnecessary Columns"
   ]
  },
  {
   "cell_type": "markdown",
   "id": "0c3f768c-d5b3-4939-9363-8b2319cd6e45",
   "metadata": {},
   "source": [
    "<b> We don't need following colums for our analysis</b>\n",
    "1. Unnamed\n",
    "2. reviewId\n",
    "3. userImage\t"
   ]
  },
  {
   "cell_type": "code",
   "execution_count": 17,
   "id": "a823fcae-32e3-45b6-af58-48c174769f38",
   "metadata": {},
   "outputs": [],
   "source": [
    "df_cols_dopped = df.drop(['Unnamed: 0','reviewId','userImage'], axis=1)"
   ]
  },
  {
   "cell_type": "markdown",
   "id": "2fb2f573-290a-4084-afa7-34f99338fb13",
   "metadata": {},
   "source": [
    "* \n",
    "* \n"
   ]
  },
  {
   "cell_type": "markdown",
   "id": "6e95471b-08a1-4407-b4dc-f32956cb7258",
   "metadata": {},
   "source": [
    "## Dealing with NAs"
   ]
  },
  {
   "cell_type": "code",
   "execution_count": 18,
   "id": "98b34ec5-e111-4945-883f-b8fcd27a61c2",
   "metadata": {},
   "outputs": [
    {
     "data": {
      "text/plain": [
       "22"
      ]
     },
     "execution_count": 18,
     "metadata": {},
     "output_type": "execute_result"
    }
   ],
   "source": [
    "df_cols_dopped['content'].isna().sum()"
   ]
  },
  {
   "cell_type": "markdown",
   "id": "e0c3f5fb-051e-4a33-8eb6-761ea43d50ee",
   "metadata": {},
   "source": [
    "<b> There are 22 Na reviews.  \n",
    "    Let's Remove them"
   ]
  },
  {
   "cell_type": "code",
   "execution_count": 19,
   "id": "4488094e-b4cd-47dc-85b3-554ee910a04d",
   "metadata": {
    "scrolled": true,
    "tags": []
   },
   "outputs": [
    {
     "data": {
      "text/html": [
       "<div>\n",
       "<style scoped>\n",
       "    .dataframe tbody tr th:only-of-type {\n",
       "        vertical-align: middle;\n",
       "    }\n",
       "\n",
       "    .dataframe tbody tr th {\n",
       "        vertical-align: top;\n",
       "    }\n",
       "\n",
       "    .dataframe thead th {\n",
       "        text-align: right;\n",
       "    }\n",
       "</style>\n",
       "<table border=\"1\" class=\"dataframe\">\n",
       "  <thead>\n",
       "    <tr style=\"text-align: right;\">\n",
       "      <th></th>\n",
       "      <th>userName</th>\n",
       "      <th>content</th>\n",
       "      <th>score</th>\n",
       "      <th>thumbsUpCount</th>\n",
       "      <th>reviewCreatedVersion</th>\n",
       "      <th>at</th>\n",
       "      <th>replyContent</th>\n",
       "      <th>repliedAt</th>\n",
       "    </tr>\n",
       "  </thead>\n",
       "  <tbody>\n",
       "    <tr>\n",
       "      <th>38849</th>\n",
       "      <td>A Google user</td>\n",
       "      <td>NaN</td>\n",
       "      <td>1</td>\n",
       "      <td>0</td>\n",
       "      <td>1.6.1.0</td>\n",
       "      <td>2016-07-24 14:19:35</td>\n",
       "      <td>NaN</td>\n",
       "      <td>NaN</td>\n",
       "    </tr>\n",
       "    <tr>\n",
       "      <th>54247</th>\n",
       "      <td>A Google user</td>\n",
       "      <td>NaN</td>\n",
       "      <td>1</td>\n",
       "      <td>0</td>\n",
       "      <td>NaN</td>\n",
       "      <td>2016-05-03 17:14:40</td>\n",
       "      <td>NaN</td>\n",
       "      <td>NaN</td>\n",
       "    </tr>\n",
       "    <tr>\n",
       "      <th>54248</th>\n",
       "      <td>A Google user</td>\n",
       "      <td>NaN</td>\n",
       "      <td>1</td>\n",
       "      <td>0</td>\n",
       "      <td>NaN</td>\n",
       "      <td>2016-04-12 16:44:50</td>\n",
       "      <td>NaN</td>\n",
       "      <td>NaN</td>\n",
       "    </tr>\n",
       "    <tr>\n",
       "      <th>54249</th>\n",
       "      <td>A Google user</td>\n",
       "      <td>NaN</td>\n",
       "      <td>1</td>\n",
       "      <td>0</td>\n",
       "      <td>NaN</td>\n",
       "      <td>2017-03-08 19:48:39</td>\n",
       "      <td>NaN</td>\n",
       "      <td>NaN</td>\n",
       "    </tr>\n",
       "    <tr>\n",
       "      <th>54250</th>\n",
       "      <td>A Google user</td>\n",
       "      <td>NaN</td>\n",
       "      <td>1</td>\n",
       "      <td>0</td>\n",
       "      <td>NaN</td>\n",
       "      <td>2015-08-19 19:11:20</td>\n",
       "      <td>NaN</td>\n",
       "      <td>NaN</td>\n",
       "    </tr>\n",
       "    <tr>\n",
       "      <th>54251</th>\n",
       "      <td>A Google user</td>\n",
       "      <td>NaN</td>\n",
       "      <td>1</td>\n",
       "      <td>0</td>\n",
       "      <td>NaN</td>\n",
       "      <td>2017-05-30 16:41:44</td>\n",
       "      <td>NaN</td>\n",
       "      <td>NaN</td>\n",
       "    </tr>\n",
       "    <tr>\n",
       "      <th>54252</th>\n",
       "      <td>A Google user</td>\n",
       "      <td>NaN</td>\n",
       "      <td>1</td>\n",
       "      <td>0</td>\n",
       "      <td>NaN</td>\n",
       "      <td>2015-09-02 13:30:28</td>\n",
       "      <td>NaN</td>\n",
       "      <td>NaN</td>\n",
       "    </tr>\n",
       "    <tr>\n",
       "      <th>13619</th>\n",
       "      <td>A Google user</td>\n",
       "      <td>NaN</td>\n",
       "      <td>3</td>\n",
       "      <td>0</td>\n",
       "      <td>3.3.1.2552</td>\n",
       "      <td>2016-07-24 10:52:39</td>\n",
       "      <td>NaN</td>\n",
       "      <td>NaN</td>\n",
       "    </tr>\n",
       "    <tr>\n",
       "      <th>19585</th>\n",
       "      <td>A Google user</td>\n",
       "      <td>NaN</td>\n",
       "      <td>3</td>\n",
       "      <td>0</td>\n",
       "      <td>NaN</td>\n",
       "      <td>2016-06-05 12:21:24</td>\n",
       "      <td>NaN</td>\n",
       "      <td>NaN</td>\n",
       "    </tr>\n",
       "    <tr>\n",
       "      <th>19586</th>\n",
       "      <td>A Google user</td>\n",
       "      <td>NaN</td>\n",
       "      <td>3</td>\n",
       "      <td>0</td>\n",
       "      <td>NaN</td>\n",
       "      <td>2016-06-27 17:55:14</td>\n",
       "      <td>NaN</td>\n",
       "      <td>NaN</td>\n",
       "    </tr>\n",
       "    <tr>\n",
       "      <th>19587</th>\n",
       "      <td>A Google user</td>\n",
       "      <td>NaN</td>\n",
       "      <td>3</td>\n",
       "      <td>0</td>\n",
       "      <td>NaN</td>\n",
       "      <td>2016-09-01 11:18:22</td>\n",
       "      <td>NaN</td>\n",
       "      <td>NaN</td>\n",
       "    </tr>\n",
       "    <tr>\n",
       "      <th>19588</th>\n",
       "      <td>A Google user</td>\n",
       "      <td>NaN</td>\n",
       "      <td>3</td>\n",
       "      <td>0</td>\n",
       "      <td>NaN</td>\n",
       "      <td>2015-08-29 20:05:45</td>\n",
       "      <td>NaN</td>\n",
       "      <td>NaN</td>\n",
       "    </tr>\n",
       "    <tr>\n",
       "      <th>19589</th>\n",
       "      <td>A Google user</td>\n",
       "      <td>NaN</td>\n",
       "      <td>3</td>\n",
       "      <td>0</td>\n",
       "      <td>NaN</td>\n",
       "      <td>2015-10-10 20:32:44</td>\n",
       "      <td>NaN</td>\n",
       "      <td>NaN</td>\n",
       "    </tr>\n",
       "    <tr>\n",
       "      <th>27043</th>\n",
       "      <td>A Google user</td>\n",
       "      <td>NaN</td>\n",
       "      <td>4</td>\n",
       "      <td>0</td>\n",
       "      <td>4.3.1.4817</td>\n",
       "      <td>2018-08-08 16:28:09</td>\n",
       "      <td>NaN</td>\n",
       "      <td>NaN</td>\n",
       "    </tr>\n",
       "    <tr>\n",
       "      <th>36591</th>\n",
       "      <td>A Google user</td>\n",
       "      <td>NaN</td>\n",
       "      <td>4</td>\n",
       "      <td>0</td>\n",
       "      <td>2.3.0.2147</td>\n",
       "      <td>2016-02-20 21:41:22</td>\n",
       "      <td>NaN</td>\n",
       "      <td>NaN</td>\n",
       "    </tr>\n",
       "    <tr>\n",
       "      <th>37482</th>\n",
       "      <td>A Google user</td>\n",
       "      <td>NaN</td>\n",
       "      <td>4</td>\n",
       "      <td>0</td>\n",
       "      <td>1.4.0.0</td>\n",
       "      <td>2015-08-23 04:55:09</td>\n",
       "      <td>NaN</td>\n",
       "      <td>NaN</td>\n",
       "    </tr>\n",
       "    <tr>\n",
       "      <th>47754</th>\n",
       "      <td>A Google user</td>\n",
       "      <td>NaN</td>\n",
       "      <td>4</td>\n",
       "      <td>0</td>\n",
       "      <td>NaN</td>\n",
       "      <td>2016-02-03 18:18:50</td>\n",
       "      <td>NaN</td>\n",
       "      <td>NaN</td>\n",
       "    </tr>\n",
       "    <tr>\n",
       "      <th>47755</th>\n",
       "      <td>A Google user</td>\n",
       "      <td>NaN</td>\n",
       "      <td>4</td>\n",
       "      <td>0</td>\n",
       "      <td>NaN</td>\n",
       "      <td>2016-07-27 07:40:22</td>\n",
       "      <td>NaN</td>\n",
       "      <td>NaN</td>\n",
       "    </tr>\n",
       "    <tr>\n",
       "      <th>47756</th>\n",
       "      <td>A Google user</td>\n",
       "      <td>NaN</td>\n",
       "      <td>4</td>\n",
       "      <td>0</td>\n",
       "      <td>NaN</td>\n",
       "      <td>2015-08-31 18:20:41</td>\n",
       "      <td>NaN</td>\n",
       "      <td>NaN</td>\n",
       "    </tr>\n",
       "    <tr>\n",
       "      <th>47757</th>\n",
       "      <td>A Google user</td>\n",
       "      <td>NaN</td>\n",
       "      <td>4</td>\n",
       "      <td>0</td>\n",
       "      <td>NaN</td>\n",
       "      <td>2015-09-16 21:26:41</td>\n",
       "      <td>NaN</td>\n",
       "      <td>NaN</td>\n",
       "    </tr>\n",
       "    <tr>\n",
       "      <th>47758</th>\n",
       "      <td>A Google user</td>\n",
       "      <td>NaN</td>\n",
       "      <td>4</td>\n",
       "      <td>0</td>\n",
       "      <td>NaN</td>\n",
       "      <td>2016-05-19 12:40:56</td>\n",
       "      <td>NaN</td>\n",
       "      <td>NaN</td>\n",
       "    </tr>\n",
       "    <tr>\n",
       "      <th>47759</th>\n",
       "      <td>A Google user</td>\n",
       "      <td>NaN</td>\n",
       "      <td>4</td>\n",
       "      <td>1</td>\n",
       "      <td>NaN</td>\n",
       "      <td>2016-09-01 01:09:44</td>\n",
       "      <td>NaN</td>\n",
       "      <td>NaN</td>\n",
       "    </tr>\n",
       "  </tbody>\n",
       "</table>\n",
       "</div>"
      ],
      "text/plain": [
       "            userName content  score  thumbsUpCount reviewCreatedVersion  \\\n",
       "38849  A Google user     NaN      1              0              1.6.1.0   \n",
       "54247  A Google user     NaN      1              0                  NaN   \n",
       "54248  A Google user     NaN      1              0                  NaN   \n",
       "54249  A Google user     NaN      1              0                  NaN   \n",
       "54250  A Google user     NaN      1              0                  NaN   \n",
       "54251  A Google user     NaN      1              0                  NaN   \n",
       "54252  A Google user     NaN      1              0                  NaN   \n",
       "13619  A Google user     NaN      3              0           3.3.1.2552   \n",
       "19585  A Google user     NaN      3              0                  NaN   \n",
       "19586  A Google user     NaN      3              0                  NaN   \n",
       "19587  A Google user     NaN      3              0                  NaN   \n",
       "19588  A Google user     NaN      3              0                  NaN   \n",
       "19589  A Google user     NaN      3              0                  NaN   \n",
       "27043  A Google user     NaN      4              0           4.3.1.4817   \n",
       "36591  A Google user     NaN      4              0           2.3.0.2147   \n",
       "37482  A Google user     NaN      4              0              1.4.0.0   \n",
       "47754  A Google user     NaN      4              0                  NaN   \n",
       "47755  A Google user     NaN      4              0                  NaN   \n",
       "47756  A Google user     NaN      4              0                  NaN   \n",
       "47757  A Google user     NaN      4              0                  NaN   \n",
       "47758  A Google user     NaN      4              0                  NaN   \n",
       "47759  A Google user     NaN      4              1                  NaN   \n",
       "\n",
       "                        at replyContent repliedAt  \n",
       "38849  2016-07-24 14:19:35          NaN       NaN  \n",
       "54247  2016-05-03 17:14:40          NaN       NaN  \n",
       "54248  2016-04-12 16:44:50          NaN       NaN  \n",
       "54249  2017-03-08 19:48:39          NaN       NaN  \n",
       "54250  2015-08-19 19:11:20          NaN       NaN  \n",
       "54251  2017-05-30 16:41:44          NaN       NaN  \n",
       "54252  2015-09-02 13:30:28          NaN       NaN  \n",
       "13619  2016-07-24 10:52:39          NaN       NaN  \n",
       "19585  2016-06-05 12:21:24          NaN       NaN  \n",
       "19586  2016-06-27 17:55:14          NaN       NaN  \n",
       "19587  2016-09-01 11:18:22          NaN       NaN  \n",
       "19588  2015-08-29 20:05:45          NaN       NaN  \n",
       "19589  2015-10-10 20:32:44          NaN       NaN  \n",
       "27043  2018-08-08 16:28:09          NaN       NaN  \n",
       "36591  2016-02-20 21:41:22          NaN       NaN  \n",
       "37482  2015-08-23 04:55:09          NaN       NaN  \n",
       "47754  2016-02-03 18:18:50          NaN       NaN  \n",
       "47755  2016-07-27 07:40:22          NaN       NaN  \n",
       "47756  2015-08-31 18:20:41          NaN       NaN  \n",
       "47757  2015-09-16 21:26:41          NaN       NaN  \n",
       "47758  2016-05-19 12:40:56          NaN       NaN  \n",
       "47759  2016-09-01 01:09:44          NaN       NaN  "
      ]
     },
     "execution_count": 19,
     "metadata": {},
     "output_type": "execute_result"
    }
   ],
   "source": [
    "#Displaying those 22 NaN entries\n",
    "df_cols_dopped[df_cols_dopped['content'].isnull() ]"
   ]
  },
  {
   "cell_type": "code",
   "execution_count": 20,
   "id": "8aada3f4-8213-4ad4-a59a-ffa0e3bd329b",
   "metadata": {},
   "outputs": [
    {
     "data": {
      "text/plain": [
       "0"
      ]
     },
     "execution_count": 20,
     "metadata": {},
     "output_type": "execute_result"
    }
   ],
   "source": [
    "# Removing these 22 entries \n",
    "df_na_rm = df_cols_dopped[~df_cols_dopped['content'].isnull() ]\n",
    "df_na_rm['content'].isna().sum()"
   ]
  },
  {
   "cell_type": "markdown",
   "id": "67dc883d-556b-4f5a-a79d-b446e7d831cf",
   "metadata": {},
   "source": [
    "## Checking Data Types"
   ]
  },
  {
   "cell_type": "code",
   "execution_count": 21,
   "id": "b09612b4-25a5-4843-8fac-5b1bda5d34f8",
   "metadata": {},
   "outputs": [
    {
     "data": {
      "text/plain": [
       "userName                object\n",
       "content                 object\n",
       "score                    int64\n",
       "thumbsUpCount            int64\n",
       "reviewCreatedVersion    object\n",
       "at                      object\n",
       "replyContent            object\n",
       "repliedAt               object\n",
       "dtype: object"
      ]
     },
     "execution_count": 21,
     "metadata": {},
     "output_type": "execute_result"
    }
   ],
   "source": [
    "df_na_rm.dtypes"
   ]
  },
  {
   "cell_type": "markdown",
   "id": "8c4318a6-7e22-4cc8-a917-3db9985e82d5",
   "metadata": {},
   "source": [
    "## Converting all the colums in proper data types\n",
    "1. userName  :               str\n",
    "2. content  :                str\n",
    "3. reviewCreatedVersion :    str\n",
    "4. at        :               datetime\n",
    "5. replyContent     :        str\n",
    "6. repliedAt      :          str\n"
   ]
  },
  {
   "cell_type": "code",
   "execution_count": 22,
   "id": "b0d5d646-155d-4440-bd44-6adc7621ee1d",
   "metadata": {},
   "outputs": [
    {
     "name": "stderr",
     "output_type": "stream",
     "text": [
      "<ipython-input-22-c66075fb67a5>:1: SettingWithCopyWarning: \n",
      "A value is trying to be set on a copy of a slice from a DataFrame.\n",
      "Try using .loc[row_indexer,col_indexer] = value instead\n",
      "\n",
      "See the caveats in the documentation: https://pandas.pydata.org/pandas-docs/stable/user_guide/indexing.html#returning-a-view-versus-a-copy\n",
      "  df_na_rm['userName'] = df_na_rm['userName'].astype('string')\n",
      "<ipython-input-22-c66075fb67a5>:2: SettingWithCopyWarning: \n",
      "A value is trying to be set on a copy of a slice from a DataFrame.\n",
      "Try using .loc[row_indexer,col_indexer] = value instead\n",
      "\n",
      "See the caveats in the documentation: https://pandas.pydata.org/pandas-docs/stable/user_guide/indexing.html#returning-a-view-versus-a-copy\n",
      "  df_na_rm['content'] = df_na_rm['content'].astype('string').copy()\n",
      "<ipython-input-22-c66075fb67a5>:3: SettingWithCopyWarning: \n",
      "A value is trying to be set on a copy of a slice from a DataFrame.\n",
      "Try using .loc[row_indexer,col_indexer] = value instead\n",
      "\n",
      "See the caveats in the documentation: https://pandas.pydata.org/pandas-docs/stable/user_guide/indexing.html#returning-a-view-versus-a-copy\n",
      "  df_na_rm['reviewCreatedVersion'] = df_na_rm['reviewCreatedVersion'].astype('string').copy()\n",
      "<ipython-input-22-c66075fb67a5>:4: SettingWithCopyWarning: \n",
      "A value is trying to be set on a copy of a slice from a DataFrame.\n",
      "Try using .loc[row_indexer,col_indexer] = value instead\n",
      "\n",
      "See the caveats in the documentation: https://pandas.pydata.org/pandas-docs/stable/user_guide/indexing.html#returning-a-view-versus-a-copy\n",
      "  df_na_rm['replyContent'] = df_na_rm['replyContent'].astype('string').copy()\n"
     ]
    }
   ],
   "source": [
    "df_na_rm['userName'] = df_na_rm['userName'].astype('string')\n",
    "df_na_rm['content'] = df_na_rm['content'].astype('string').copy()\n",
    "df_na_rm['reviewCreatedVersion'] = df_na_rm['reviewCreatedVersion'].astype('string').copy()\n",
    "df_na_rm['replyContent'] = df_na_rm['replyContent'].astype('string').copy()"
   ]
  },
  {
   "cell_type": "code",
   "execution_count": 23,
   "id": "4b5a86c8-d2ca-4821-ae6e-5d5eebedba29",
   "metadata": {},
   "outputs": [
    {
     "data": {
      "text/plain": [
       "userName                string\n",
       "content                 string\n",
       "score                    int64\n",
       "thumbsUpCount            int64\n",
       "reviewCreatedVersion    string\n",
       "at                      object\n",
       "replyContent            string\n",
       "repliedAt               object\n",
       "dtype: object"
      ]
     },
     "execution_count": 23,
     "metadata": {},
     "output_type": "execute_result"
    }
   ],
   "source": [
    "df_na_rm.dtypes"
   ]
  },
  {
   "cell_type": "markdown",
   "id": "6d03ba00-fc2f-4bcb-aae5-186a1353be67",
   "metadata": {},
   "source": [
    "## Date Time Conversions"
   ]
  },
  {
   "cell_type": "code",
   "execution_count": 24,
   "id": "a25559af-eaf1-4b13-8b5c-c210f3a68d67",
   "metadata": {},
   "outputs": [
    {
     "name": "stderr",
     "output_type": "stream",
     "text": [
      "<ipython-input-24-7c6b603db5e2>:1: SettingWithCopyWarning: \n",
      "A value is trying to be set on a copy of a slice from a DataFrame.\n",
      "Try using .loc[row_indexer,col_indexer] = value instead\n",
      "\n",
      "See the caveats in the documentation: https://pandas.pydata.org/pandas-docs/stable/user_guide/indexing.html#returning-a-view-versus-a-copy\n",
      "  df_na_rm['at'] = df_na_rm['at'].astype('datetime64[ns]').copy()\n",
      "<ipython-input-24-7c6b603db5e2>:2: SettingWithCopyWarning: \n",
      "A value is trying to be set on a copy of a slice from a DataFrame.\n",
      "Try using .loc[row_indexer,col_indexer] = value instead\n",
      "\n",
      "See the caveats in the documentation: https://pandas.pydata.org/pandas-docs/stable/user_guide/indexing.html#returning-a-view-versus-a-copy\n",
      "  df_na_rm['repliedAt'] = df_na_rm['repliedAt'].astype('datetime64[ns]').copy()\n"
     ]
    }
   ],
   "source": [
    "df_na_rm['at'] = df_na_rm['at'].astype('datetime64[ns]').copy()\n",
    "df_na_rm['repliedAt'] = df_na_rm['repliedAt'].astype('datetime64[ns]').copy()"
   ]
  },
  {
   "cell_type": "code",
   "execution_count": 25,
   "id": "04a9960d-f3a8-41c7-91ee-e9c4b2e9e57e",
   "metadata": {},
   "outputs": [
    {
     "data": {
      "text/plain": [
       "userName                        string\n",
       "content                         string\n",
       "score                            int64\n",
       "thumbsUpCount                    int64\n",
       "reviewCreatedVersion            string\n",
       "at                      datetime64[ns]\n",
       "replyContent                    string\n",
       "repliedAt               datetime64[ns]\n",
       "dtype: object"
      ]
     },
     "execution_count": 25,
     "metadata": {},
     "output_type": "execute_result"
    }
   ],
   "source": [
    "df_na_rm.dtypes"
   ]
  },
  {
   "cell_type": "code",
   "execution_count": 26,
   "id": "60a1e2e2-3eff-4574-a55b-c5cef7e1105c",
   "metadata": {},
   "outputs": [],
   "source": [
    "#Final Data Type Corrected DataFrame\n",
    "df_dtype = df_na_rm"
   ]
  },
  {
   "cell_type": "markdown",
   "id": "21e98ce9-912d-4dd1-8a33-343acddcdccc",
   "metadata": {},
   "source": [
    "## Sorting By Score And Thumbsup Count\n",
    "<b> We are sorting so that : </b>\n",
    "1. 1 Star reviews are at top and 5 star reviews are at bottom\n",
    "2. Among each category of score, reviews with most thumbsups should be at top"
   ]
  },
  {
   "cell_type": "code",
   "execution_count": 27,
   "id": "872afa29-0a02-4451-8be9-afaaccb77eeb",
   "metadata": {},
   "outputs": [
    {
     "data": {
      "text/html": [
       "<div>\n",
       "<style scoped>\n",
       "    .dataframe tbody tr th:only-of-type {\n",
       "        vertical-align: middle;\n",
       "    }\n",
       "\n",
       "    .dataframe tbody tr th {\n",
       "        vertical-align: top;\n",
       "    }\n",
       "\n",
       "    .dataframe thead th {\n",
       "        text-align: right;\n",
       "    }\n",
       "</style>\n",
       "<table border=\"1\" class=\"dataframe\">\n",
       "  <thead>\n",
       "    <tr style=\"text-align: right;\">\n",
       "      <th></th>\n",
       "      <th>userName</th>\n",
       "      <th>content</th>\n",
       "      <th>score</th>\n",
       "      <th>thumbsUpCount</th>\n",
       "      <th>reviewCreatedVersion</th>\n",
       "      <th>at</th>\n",
       "      <th>replyContent</th>\n",
       "      <th>repliedAt</th>\n",
       "    </tr>\n",
       "  </thead>\n",
       "  <tbody>\n",
       "    <tr>\n",
       "      <th>0</th>\n",
       "      <td>Disha Sharma</td>\n",
       "      <td>The new update is causing lot of problems in r...</td>\n",
       "      <td>1</td>\n",
       "      <td>6934</td>\n",
       "      <td>10.4.0.13552</td>\n",
       "      <td>2022-06-26 17:39:08</td>\n",
       "      <td>Apologies for the inconvenience. Please drop u...</td>\n",
       "      <td>2022-06-28 14:41:02</td>\n",
       "    </tr>\n",
       "    <tr>\n",
       "      <th>1</th>\n",
       "      <td>#LifeonPassion</td>\n",
       "      <td>This app was amazing until I used the free ver...</td>\n",
       "      <td>1</td>\n",
       "      <td>5526</td>\n",
       "      <td>8.2.0.10847</td>\n",
       "      <td>2021-05-27 22:11:29</td>\n",
       "      <td>We are extremely sorry that you had an unpleas...</td>\n",
       "      <td>2021-06-03 20:45:10</td>\n",
       "    </tr>\n",
       "    <tr>\n",
       "      <th>2</th>\n",
       "      <td>A Google user</td>\n",
       "      <td>The staffs keep calling and pestering you once...</td>\n",
       "      <td>1</td>\n",
       "      <td>4566</td>\n",
       "      <td>5.3.1.6752</td>\n",
       "      <td>2019-05-21 11:15:05</td>\n",
       "      <td>&lt;NA&gt;</td>\n",
       "      <td>NaT</td>\n",
       "    </tr>\n",
       "    <tr>\n",
       "      <th>3</th>\n",
       "      <td>A Google user</td>\n",
       "      <td>I am totally not satisfied with this app.I log...</td>\n",
       "      <td>1</td>\n",
       "      <td>4140</td>\n",
       "      <td>5.4.3.6941</td>\n",
       "      <td>2019-08-01 20:04:00</td>\n",
       "      <td>&lt;NA&gt;</td>\n",
       "      <td>NaT</td>\n",
       "    </tr>\n",
       "    <tr>\n",
       "      <th>4</th>\n",
       "      <td>Soumyadeep Podder</td>\n",
       "      <td>Third class app.The only problem is that I get...</td>\n",
       "      <td>1</td>\n",
       "      <td>4095</td>\n",
       "      <td>10.9.2.14517</td>\n",
       "      <td>2022-10-06 20:53:10</td>\n",
       "      <td>We regret that our team reached out to you mul...</td>\n",
       "      <td>2022-10-07 15:00:55</td>\n",
       "    </tr>\n",
       "  </tbody>\n",
       "</table>\n",
       "</div>"
      ],
      "text/plain": [
       "            userName                                            content  \\\n",
       "0       Disha Sharma  The new update is causing lot of problems in r...   \n",
       "1     #LifeonPassion  This app was amazing until I used the free ver...   \n",
       "2      A Google user  The staffs keep calling and pestering you once...   \n",
       "3      A Google user  I am totally not satisfied with this app.I log...   \n",
       "4  Soumyadeep Podder  Third class app.The only problem is that I get...   \n",
       "\n",
       "   score  thumbsUpCount reviewCreatedVersion                  at  \\\n",
       "0      1           6934         10.4.0.13552 2022-06-26 17:39:08   \n",
       "1      1           5526          8.2.0.10847 2021-05-27 22:11:29   \n",
       "2      1           4566           5.3.1.6752 2019-05-21 11:15:05   \n",
       "3      1           4140           5.4.3.6941 2019-08-01 20:04:00   \n",
       "4      1           4095         10.9.2.14517 2022-10-06 20:53:10   \n",
       "\n",
       "                                        replyContent           repliedAt  \n",
       "0  Apologies for the inconvenience. Please drop u... 2022-06-28 14:41:02  \n",
       "1  We are extremely sorry that you had an unpleas... 2021-06-03 20:45:10  \n",
       "2                                               <NA>                 NaT  \n",
       "3                                               <NA>                 NaT  \n",
       "4  We regret that our team reached out to you mul... 2022-10-07 15:00:55  "
      ]
     },
     "execution_count": 27,
     "metadata": {},
     "output_type": "execute_result"
    }
   ],
   "source": [
    "df_sorted = df_dtype.sort_values(by=['score','thumbsUpCount'],\\\n",
    "                                 ascending=[True,False],\\\n",
    "                                 ignore_index=True)\n",
    "df_sorted.head()"
   ]
  },
  {
   "cell_type": "code",
   "execution_count": 28,
   "id": "8b46a751-dd8a-4873-8f88-012e90f3e119",
   "metadata": {},
   "outputs": [],
   "source": [
    "#Final cleaned df\n",
    "df_clean = df_sorted"
   ]
  },
  {
   "cell_type": "markdown",
   "id": "1443f0b0-e173-41a1-8448-bc39e4e721dd",
   "metadata": {},
   "source": [
    "# Feature Engineering"
   ]
  },
  {
   "cell_type": "code",
   "execution_count": 29,
   "id": "aa09b346-263d-4c3a-b3a3-eed4753654bc",
   "metadata": {},
   "outputs": [],
   "source": [
    "df_clean['review_len'] = df_clean['content'].apply(len)"
   ]
  },
  {
   "cell_type": "code",
   "execution_count": 30,
   "id": "8a3353d3-c58b-4e8e-a7df-49ba0a0d86ba",
   "metadata": {},
   "outputs": [
    {
     "data": {
      "text/html": [
       "<div>\n",
       "<style scoped>\n",
       "    .dataframe tbody tr th:only-of-type {\n",
       "        vertical-align: middle;\n",
       "    }\n",
       "\n",
       "    .dataframe tbody tr th {\n",
       "        vertical-align: top;\n",
       "    }\n",
       "\n",
       "    .dataframe thead th {\n",
       "        text-align: right;\n",
       "    }\n",
       "</style>\n",
       "<table border=\"1\" class=\"dataframe\">\n",
       "  <thead>\n",
       "    <tr style=\"text-align: right;\">\n",
       "      <th></th>\n",
       "      <th>userName</th>\n",
       "      <th>content</th>\n",
       "      <th>score</th>\n",
       "      <th>thumbsUpCount</th>\n",
       "      <th>reviewCreatedVersion</th>\n",
       "      <th>at</th>\n",
       "      <th>replyContent</th>\n",
       "      <th>repliedAt</th>\n",
       "      <th>review_len</th>\n",
       "    </tr>\n",
       "  </thead>\n",
       "  <tbody>\n",
       "    <tr>\n",
       "      <th>0</th>\n",
       "      <td>Disha Sharma</td>\n",
       "      <td>The new update is causing lot of problems in r...</td>\n",
       "      <td>1</td>\n",
       "      <td>6934</td>\n",
       "      <td>10.4.0.13552</td>\n",
       "      <td>2022-06-26 17:39:08</td>\n",
       "      <td>Apologies for the inconvenience. Please drop u...</td>\n",
       "      <td>2022-06-28 14:41:02</td>\n",
       "      <td>499</td>\n",
       "    </tr>\n",
       "    <tr>\n",
       "      <th>1</th>\n",
       "      <td>#LifeonPassion</td>\n",
       "      <td>This app was amazing until I used the free ver...</td>\n",
       "      <td>1</td>\n",
       "      <td>5526</td>\n",
       "      <td>8.2.0.10847</td>\n",
       "      <td>2021-05-27 22:11:29</td>\n",
       "      <td>We are extremely sorry that you had an unpleas...</td>\n",
       "      <td>2021-06-03 20:45:10</td>\n",
       "      <td>496</td>\n",
       "    </tr>\n",
       "    <tr>\n",
       "      <th>2</th>\n",
       "      <td>A Google user</td>\n",
       "      <td>The staffs keep calling and pestering you once...</td>\n",
       "      <td>1</td>\n",
       "      <td>4566</td>\n",
       "      <td>5.3.1.6752</td>\n",
       "      <td>2019-05-21 11:15:05</td>\n",
       "      <td>&lt;NA&gt;</td>\n",
       "      <td>NaT</td>\n",
       "      <td>441</td>\n",
       "    </tr>\n",
       "    <tr>\n",
       "      <th>3</th>\n",
       "      <td>A Google user</td>\n",
       "      <td>I am totally not satisfied with this app.I log...</td>\n",
       "      <td>1</td>\n",
       "      <td>4140</td>\n",
       "      <td>5.4.3.6941</td>\n",
       "      <td>2019-08-01 20:04:00</td>\n",
       "      <td>&lt;NA&gt;</td>\n",
       "      <td>NaT</td>\n",
       "      <td>458</td>\n",
       "    </tr>\n",
       "    <tr>\n",
       "      <th>4</th>\n",
       "      <td>Soumyadeep Podder</td>\n",
       "      <td>Third class app.The only problem is that I get...</td>\n",
       "      <td>1</td>\n",
       "      <td>4095</td>\n",
       "      <td>10.9.2.14517</td>\n",
       "      <td>2022-10-06 20:53:10</td>\n",
       "      <td>We regret that our team reached out to you mul...</td>\n",
       "      <td>2022-10-07 15:00:55</td>\n",
       "      <td>399</td>\n",
       "    </tr>\n",
       "  </tbody>\n",
       "</table>\n",
       "</div>"
      ],
      "text/plain": [
       "            userName                                            content  \\\n",
       "0       Disha Sharma  The new update is causing lot of problems in r...   \n",
       "1     #LifeonPassion  This app was amazing until I used the free ver...   \n",
       "2      A Google user  The staffs keep calling and pestering you once...   \n",
       "3      A Google user  I am totally not satisfied with this app.I log...   \n",
       "4  Soumyadeep Podder  Third class app.The only problem is that I get...   \n",
       "\n",
       "   score  thumbsUpCount reviewCreatedVersion                  at  \\\n",
       "0      1           6934         10.4.0.13552 2022-06-26 17:39:08   \n",
       "1      1           5526          8.2.0.10847 2021-05-27 22:11:29   \n",
       "2      1           4566           5.3.1.6752 2019-05-21 11:15:05   \n",
       "3      1           4140           5.4.3.6941 2019-08-01 20:04:00   \n",
       "4      1           4095         10.9.2.14517 2022-10-06 20:53:10   \n",
       "\n",
       "                                        replyContent           repliedAt  \\\n",
       "0  Apologies for the inconvenience. Please drop u... 2022-06-28 14:41:02   \n",
       "1  We are extremely sorry that you had an unpleas... 2021-06-03 20:45:10   \n",
       "2                                               <NA>                 NaT   \n",
       "3                                               <NA>                 NaT   \n",
       "4  We regret that our team reached out to you mul... 2022-10-07 15:00:55   \n",
       "\n",
       "   review_len  \n",
       "0         499  \n",
       "1         496  \n",
       "2         441  \n",
       "3         458  \n",
       "4         399  "
      ]
     },
     "execution_count": 30,
     "metadata": {},
     "output_type": "execute_result"
    }
   ],
   "source": [
    "df_clean.head()"
   ]
  },
  {
   "cell_type": "markdown",
   "id": "9f1d0b99-b5dd-46fd-a1f2-0f8634c941ff",
   "metadata": {},
   "source": [
    "## More EDA"
   ]
  },
  {
   "cell_type": "code",
   "execution_count": 31,
   "id": "d5737a20-0167-4015-889f-6317f2791ed6",
   "metadata": {},
   "outputs": [
    {
     "data": {
      "text/plain": [
       "array([[<AxesSubplot:title={'center':'review_len'}>]], dtype=object)"
      ]
     },
     "execution_count": 31,
     "metadata": {},
     "output_type": "execute_result"
    },
    {
     "data": {
      "image/png": "[encoded data removed]",
      "text/plain": [
       "<Figure size 720x288 with 1 Axes>"
      ]
     },
     "metadata": {
      "needs_background": "light"
     },
     "output_type": "display_data"
    }
   ],
   "source": [
    "#Seeing frequency distribution of reviw legths\n",
    "df_clean.hist(column='review_len',  bins = 50, figsize=(10,4))"
   ]
  },
  {
   "cell_type": "code",
   "execution_count": 32,
   "id": "fbd5e1a1-afc9-46cb-a197-17d279837167",
   "metadata": {},
   "outputs": [
    {
     "data": {
      "text/plain": [
       "array([[<AxesSubplot:title={'center':'1'}>,\n",
       "        <AxesSubplot:title={'center':'2'}>],\n",
       "       [<AxesSubplot:title={'center':'3'}>,\n",
       "        <AxesSubplot:title={'center':'4'}>],\n",
       "       [<AxesSubplot:title={'center':'5'}>, <AxesSubplot:>]], dtype=object)"
      ]
     },
     "execution_count": 32,
     "metadata": {},
     "output_type": "execute_result"
    },
    {
     "data": {
      "image/png": "[encoded data removed]",
      "text/plain": [
       "<Figure size 1440x720 with 6 Axes>"
      ]
     },
     "metadata": {
      "needs_background": "light"
     },
     "output_type": "display_data"
    }
   ],
   "source": [
    "#Seeing frequency distribution of five scores\n",
    "df_clean.hist(column='review_len', by='score', bins = 50, figsize=(20,10))"
   ]
  },
  {
   "cell_type": "code",
   "execution_count": 33,
   "id": "73549639-56cf-4efa-9357-1297daf7d040",
   "metadata": {},
   "outputs": [
    {
     "name": "stdout",
     "output_type": "stream",
     "text": [
      "The maximum number of characters in review legths are 1946 and \n",
      "minimum number of characters in review lengths are 1\n"
     ]
    }
   ],
   "source": [
    "print(\"The maximum number of characters in review legths are {a} and \\nminimum number of characters in review lengths are {b}\".\\\n",
    "      format(a= df_clean['review_len'].max(),\\\n",
    "             b= df_clean['review_len'].min()))"
   ]
  },
  {
   "cell_type": "markdown",
   "id": "455f254f-4424-4f18-9de2-31f433f6b6fe",
   "metadata": {},
   "source": [
    "## Checking connection between review lengths and number of thumbsup"
   ]
  },
  {
   "cell_type": "code",
   "execution_count": 34,
   "id": "718fbead-4716-4d89-ac51-f027e226f125",
   "metadata": {},
   "outputs": [
    {
     "data": {
      "text/plain": [
       "<AxesSubplot:xlabel='review_len', ylabel='thumbsUpCount'>"
      ]
     },
     "execution_count": 34,
     "metadata": {},
     "output_type": "execute_result"
    },
    {
     "data": {
      "image/png": "[encoded data removed]",
      "text/plain": [
       "<Figure size 1440x720 with 1 Axes>"
      ]
     },
     "metadata": {
      "needs_background": "light"
     },
     "output_type": "display_data"
    }
   ],
   "source": [
    "plt.figure(figsize=(20,10))\n",
    "sns.scatterplot(data= df_clean, x='review_len', y='thumbsUpCount',\\\n",
    "                hue='score', size='score', style=None, palette='bright', \\\n",
    "                sizes=None,  \\\n",
    "                )"
   ]
  },
  {
   "cell_type": "markdown",
   "id": "83235e64-7a29-4368-9d41-68d799192a24",
   "metadata": {},
   "source": [
    "<b> Above diagram shows that the reviews that get more thumbsups are of lenngth 300 to 500\n",
    "    "
   ]
  },
  {
   "cell_type": "markdown",
   "id": "79ece5f2-ff83-49a2-a1c9-9100aa03194a",
   "metadata": {},
   "source": [
    "# Natural Laguage Processing"
   ]
  },
  {
   "cell_type": "markdown",
   "id": "9d64f6e9-4ac2-4e2d-9516-2e8e09f8d378",
   "metadata": {},
   "source": [
    "## 1. Setiment Analysis Using VADER Model"
   ]
  },
  {
   "cell_type": "code",
   "execution_count": 35,
   "id": "930518be-5bd3-4e37-ab55-335c0533a716",
   "metadata": {},
   "outputs": [],
   "source": [
    "#Creating a class\n",
    "sia = SentimentIntensityAnalyzer()"
   ]
  },
  {
   "cell_type": "code",
   "execution_count": 36,
   "id": "7ad84f94-aa20-4c1f-a28a-1ff389d07c33",
   "metadata": {},
   "outputs": [
    {
     "data": {
      "text/plain": [
       "\"The new update is causing lot of problems in re-watching a video from half as it plays from the beginning only. The new interface is not very good as before. The sound quality breaks many times which is annoying. I've to keep tapping on the screen to make voice smoother. Also, once a video gets over, after attempting all mcqs, it doesn't move ahead to the next journey. A plain white screen appears and it just hangs there. I really hope these bugs get resolved quick before my exam takes my life.\""
      ]
     },
     "execution_count": 36,
     "metadata": {},
     "output_type": "execute_result"
    }
   ],
   "source": [
    "#Let's try running our SIA on first review\n",
    "df_clean['content'][0]"
   ]
  },
  {
   "cell_type": "code",
   "execution_count": 37,
   "id": "1c9992c2-7288-4a85-84c7-96ea7100f949",
   "metadata": {},
   "outputs": [
    {
     "data": {
      "text/plain": [
       "{'neg': 0.083, 'neu': 0.846, 'pos': 0.071, 'compound': -0.28}"
      ]
     },
     "execution_count": 37,
     "metadata": {},
     "output_type": "execute_result"
    }
   ],
   "source": [
    "sia.polarity_scores(df_clean['content'][0])"
   ]
  },
  {
   "cell_type": "markdown",
   "id": "755529e1-4566-4fad-a185-f4234937c536",
   "metadata": {},
   "source": [
    "<b> neg score is greater than pos score.  \n",
    "    Also compound in negative. \n",
    "    Therefore this is a negative review"
   ]
  },
  {
   "cell_type": "code",
   "execution_count": 38,
   "id": "d278522a-d185-457a-b04a-1bed945290ed",
   "metadata": {},
   "outputs": [],
   "source": [
    "#Introducing a simple ID\n",
    "df_clean['id'] = range(1, len(df_clean) + 1)"
   ]
  },
  {
   "cell_type": "code",
   "execution_count": 39,
   "id": "c4fda4dc-8316-43e6-bc3f-35eef160a4ba",
   "metadata": {},
   "outputs": [
    {
     "data": {
      "text/plain": [
       "['userName',\n",
       " 'content',\n",
       " 'score',\n",
       " 'thumbsUpCount',\n",
       " 'reviewCreatedVersion',\n",
       " 'at',\n",
       " 'replyContent',\n",
       " 'repliedAt',\n",
       " 'review_len',\n",
       " 'id']"
      ]
     },
     "execution_count": 39,
     "metadata": {},
     "output_type": "execute_result"
    }
   ],
   "source": [
    "list(df_clean.columns.values)"
   ]
  },
  {
   "cell_type": "code",
   "execution_count": 40,
   "id": "0164b62b-cc79-4b14-b3c1-6fe2187a03a4",
   "metadata": {},
   "outputs": [
    {
     "data": {
      "text/html": [
       "<div>\n",
       "<style scoped>\n",
       "    .dataframe tbody tr th:only-of-type {\n",
       "        vertical-align: middle;\n",
       "    }\n",
       "\n",
       "    .dataframe tbody tr th {\n",
       "        vertical-align: top;\n",
       "    }\n",
       "\n",
       "    .dataframe thead th {\n",
       "        text-align: right;\n",
       "    }\n",
       "</style>\n",
       "<table border=\"1\" class=\"dataframe\">\n",
       "  <thead>\n",
       "    <tr style=\"text-align: right;\">\n",
       "      <th></th>\n",
       "      <th>id</th>\n",
       "      <th>userName</th>\n",
       "      <th>content</th>\n",
       "      <th>score</th>\n",
       "      <th>thumbsUpCount</th>\n",
       "      <th>reviewCreatedVersion</th>\n",
       "      <th>at</th>\n",
       "      <th>replyContent</th>\n",
       "      <th>repliedAt</th>\n",
       "      <th>review_len</th>\n",
       "    </tr>\n",
       "  </thead>\n",
       "  <tbody>\n",
       "    <tr>\n",
       "      <th>0</th>\n",
       "      <td>1</td>\n",
       "      <td>Disha Sharma</td>\n",
       "      <td>The new update is causing lot of problems in r...</td>\n",
       "      <td>1</td>\n",
       "      <td>6934</td>\n",
       "      <td>10.4.0.13552</td>\n",
       "      <td>2022-06-26 17:39:08</td>\n",
       "      <td>Apologies for the inconvenience. Please drop u...</td>\n",
       "      <td>2022-06-28 14:41:02</td>\n",
       "      <td>499</td>\n",
       "    </tr>\n",
       "    <tr>\n",
       "      <th>1</th>\n",
       "      <td>2</td>\n",
       "      <td>#LifeonPassion</td>\n",
       "      <td>This app was amazing until I used the free ver...</td>\n",
       "      <td>1</td>\n",
       "      <td>5526</td>\n",
       "      <td>8.2.0.10847</td>\n",
       "      <td>2021-05-27 22:11:29</td>\n",
       "      <td>We are extremely sorry that you had an unpleas...</td>\n",
       "      <td>2021-06-03 20:45:10</td>\n",
       "      <td>496</td>\n",
       "    </tr>\n",
       "    <tr>\n",
       "      <th>2</th>\n",
       "      <td>3</td>\n",
       "      <td>A Google user</td>\n",
       "      <td>The staffs keep calling and pestering you once...</td>\n",
       "      <td>1</td>\n",
       "      <td>4566</td>\n",
       "      <td>5.3.1.6752</td>\n",
       "      <td>2019-05-21 11:15:05</td>\n",
       "      <td>&lt;NA&gt;</td>\n",
       "      <td>NaT</td>\n",
       "      <td>441</td>\n",
       "    </tr>\n",
       "    <tr>\n",
       "      <th>3</th>\n",
       "      <td>4</td>\n",
       "      <td>A Google user</td>\n",
       "      <td>I am totally not satisfied with this app.I log...</td>\n",
       "      <td>1</td>\n",
       "      <td>4140</td>\n",
       "      <td>5.4.3.6941</td>\n",
       "      <td>2019-08-01 20:04:00</td>\n",
       "      <td>&lt;NA&gt;</td>\n",
       "      <td>NaT</td>\n",
       "      <td>458</td>\n",
       "    </tr>\n",
       "    <tr>\n",
       "      <th>4</th>\n",
       "      <td>5</td>\n",
       "      <td>Soumyadeep Podder</td>\n",
       "      <td>Third class app.The only problem is that I get...</td>\n",
       "      <td>1</td>\n",
       "      <td>4095</td>\n",
       "      <td>10.9.2.14517</td>\n",
       "      <td>2022-10-06 20:53:10</td>\n",
       "      <td>We regret that our team reached out to you mul...</td>\n",
       "      <td>2022-10-07 15:00:55</td>\n",
       "      <td>399</td>\n",
       "    </tr>\n",
       "  </tbody>\n",
       "</table>\n",
       "</div>"
      ],
      "text/plain": [
       "   id           userName                                            content  \\\n",
       "0   1       Disha Sharma  The new update is causing lot of problems in r...   \n",
       "1   2     #LifeonPassion  This app was amazing until I used the free ver...   \n",
       "2   3      A Google user  The staffs keep calling and pestering you once...   \n",
       "3   4      A Google user  I am totally not satisfied with this app.I log...   \n",
       "4   5  Soumyadeep Podder  Third class app.The only problem is that I get...   \n",
       "\n",
       "   score  thumbsUpCount reviewCreatedVersion                  at  \\\n",
       "0      1           6934         10.4.0.13552 2022-06-26 17:39:08   \n",
       "1      1           5526          8.2.0.10847 2021-05-27 22:11:29   \n",
       "2      1           4566           5.3.1.6752 2019-05-21 11:15:05   \n",
       "3      1           4140           5.4.3.6941 2019-08-01 20:04:00   \n",
       "4      1           4095         10.9.2.14517 2022-10-06 20:53:10   \n",
       "\n",
       "                                        replyContent           repliedAt  \\\n",
       "0  Apologies for the inconvenience. Please drop u... 2022-06-28 14:41:02   \n",
       "1  We are extremely sorry that you had an unpleas... 2021-06-03 20:45:10   \n",
       "2                                               <NA>                 NaT   \n",
       "3                                               <NA>                 NaT   \n",
       "4  We regret that our team reached out to you mul... 2022-10-07 15:00:55   \n",
       "\n",
       "   review_len  \n",
       "0         499  \n",
       "1         496  \n",
       "2         441  \n",
       "3         458  \n",
       "4         399  "
      ]
     },
     "execution_count": 40,
     "metadata": {},
     "output_type": "execute_result"
    }
   ],
   "source": [
    "#Changing order\n",
    "dff = df_clean[['id','userName',\\\n",
    " 'content',\\\n",
    " 'score',\\\n",
    " 'thumbsUpCount',\\\n",
    " 'reviewCreatedVersion',\\\n",
    " 'at',\\\n",
    " 'replyContent',\\\n",
    " 'repliedAt',\\\n",
    " 'review_len']]\n",
    "\n",
    "dff.head()"
   ]
  },
  {
   "cell_type": "code",
   "execution_count": 41,
   "id": "fa495689-75b5-4fb5-b4f3-96cd89e74948",
   "metadata": {},
   "outputs": [
    {
     "name": "stderr",
     "output_type": "stream",
     "text": [
      "100%|██████████| 289160/289160 [01:38<00:00, 2935.91it/s]\n"
     ]
    }
   ],
   "source": [
    "# Creating a dictioary to create a df\n",
    "\n",
    "res = {}\n",
    "\n",
    "for i, row in tqdm(dff.iterrows(), total=len(dff)):\n",
    "    text = row['content']\n",
    "    myid = row['id']\n",
    "    res[myid] = sia.polarity_scores(text)"
   ]
  },
  {
   "cell_type": "code",
   "execution_count": 42,
   "id": "113cf451-4981-4ef0-b9d3-1e1c36cf92eb",
   "metadata": {},
   "outputs": [
    {
     "data": {
      "text/html": [
       "<div>\n",
       "<style scoped>\n",
       "    .dataframe tbody tr th:only-of-type {\n",
       "        vertical-align: middle;\n",
       "    }\n",
       "\n",
       "    .dataframe tbody tr th {\n",
       "        vertical-align: top;\n",
       "    }\n",
       "\n",
       "    .dataframe thead th {\n",
       "        text-align: right;\n",
       "    }\n",
       "</style>\n",
       "<table border=\"1\" class=\"dataframe\">\n",
       "  <thead>\n",
       "    <tr style=\"text-align: right;\">\n",
       "      <th></th>\n",
       "      <th>1</th>\n",
       "      <th>2</th>\n",
       "      <th>3</th>\n",
       "      <th>4</th>\n",
       "      <th>5</th>\n",
       "      <th>6</th>\n",
       "      <th>7</th>\n",
       "      <th>8</th>\n",
       "      <th>9</th>\n",
       "      <th>10</th>\n",
       "      <th>...</th>\n",
       "      <th>289151</th>\n",
       "      <th>289152</th>\n",
       "      <th>289153</th>\n",
       "      <th>289154</th>\n",
       "      <th>289155</th>\n",
       "      <th>289156</th>\n",
       "      <th>289157</th>\n",
       "      <th>289158</th>\n",
       "      <th>289159</th>\n",
       "      <th>289160</th>\n",
       "    </tr>\n",
       "  </thead>\n",
       "  <tbody>\n",
       "    <tr>\n",
       "      <th>neg</th>\n",
       "      <td>0.083</td>\n",
       "      <td>0.0960</td>\n",
       "      <td>0.1050</td>\n",
       "      <td>0.0980</td>\n",
       "      <td>0.1690</td>\n",
       "      <td>0.0510</td>\n",
       "      <td>0.0610</td>\n",
       "      <td>0.1000</td>\n",
       "      <td>0.0610</td>\n",
       "      <td>0.1930</td>\n",
       "      <td>...</td>\n",
       "      <td>0.0000</td>\n",
       "      <td>0.0</td>\n",
       "      <td>0.0000</td>\n",
       "      <td>0.0</td>\n",
       "      <td>0.0</td>\n",
       "      <td>0.0</td>\n",
       "      <td>0.0000</td>\n",
       "      <td>0.0</td>\n",
       "      <td>0.0</td>\n",
       "      <td>0.0</td>\n",
       "    </tr>\n",
       "    <tr>\n",
       "      <th>neu</th>\n",
       "      <td>0.846</td>\n",
       "      <td>0.6940</td>\n",
       "      <td>0.7940</td>\n",
       "      <td>0.8240</td>\n",
       "      <td>0.7840</td>\n",
       "      <td>0.8420</td>\n",
       "      <td>0.8410</td>\n",
       "      <td>0.8380</td>\n",
       "      <td>0.8110</td>\n",
       "      <td>0.8070</td>\n",
       "      <td>...</td>\n",
       "      <td>0.2040</td>\n",
       "      <td>1.0</td>\n",
       "      <td>0.2950</td>\n",
       "      <td>1.0</td>\n",
       "      <td>1.0</td>\n",
       "      <td>1.0</td>\n",
       "      <td>0.2040</td>\n",
       "      <td>1.0</td>\n",
       "      <td>1.0</td>\n",
       "      <td>1.0</td>\n",
       "    </tr>\n",
       "    <tr>\n",
       "      <th>pos</th>\n",
       "      <td>0.071</td>\n",
       "      <td>0.2100</td>\n",
       "      <td>0.1010</td>\n",
       "      <td>0.0790</td>\n",
       "      <td>0.0460</td>\n",
       "      <td>0.1070</td>\n",
       "      <td>0.0980</td>\n",
       "      <td>0.0620</td>\n",
       "      <td>0.1280</td>\n",
       "      <td>0.0000</td>\n",
       "      <td>...</td>\n",
       "      <td>0.7960</td>\n",
       "      <td>0.0</td>\n",
       "      <td>0.7050</td>\n",
       "      <td>0.0</td>\n",
       "      <td>0.0</td>\n",
       "      <td>0.0</td>\n",
       "      <td>0.7960</td>\n",
       "      <td>0.0</td>\n",
       "      <td>0.0</td>\n",
       "      <td>0.0</td>\n",
       "    </tr>\n",
       "    <tr>\n",
       "      <th>compound</th>\n",
       "      <td>-0.280</td>\n",
       "      <td>0.8671</td>\n",
       "      <td>-0.0813</td>\n",
       "      <td>-0.5428</td>\n",
       "      <td>-0.8943</td>\n",
       "      <td>0.5574</td>\n",
       "      <td>0.3301</td>\n",
       "      <td>-0.6867</td>\n",
       "      <td>0.7876</td>\n",
       "      <td>-0.8887</td>\n",
       "      <td>...</td>\n",
       "      <td>0.5994</td>\n",
       "      <td>0.0</td>\n",
       "      <td>0.3384</td>\n",
       "      <td>0.0</td>\n",
       "      <td>0.0</td>\n",
       "      <td>0.0</td>\n",
       "      <td>0.5994</td>\n",
       "      <td>0.0</td>\n",
       "      <td>0.0</td>\n",
       "      <td>0.0</td>\n",
       "    </tr>\n",
       "  </tbody>\n",
       "</table>\n",
       "<p>4 rows × 289160 columns</p>\n",
       "</div>"
      ],
      "text/plain": [
       "          1       2       3       4       5       6       7       8       \\\n",
       "neg        0.083  0.0960  0.1050  0.0980  0.1690  0.0510  0.0610  0.1000   \n",
       "neu        0.846  0.6940  0.7940  0.8240  0.7840  0.8420  0.8410  0.8380   \n",
       "pos        0.071  0.2100  0.1010  0.0790  0.0460  0.1070  0.0980  0.0620   \n",
       "compound  -0.280  0.8671 -0.0813 -0.5428 -0.8943  0.5574  0.3301 -0.6867   \n",
       "\n",
       "          9       10      ...  289151  289152  289153  289154  289155  289156  \\\n",
       "neg       0.0610  0.1930  ...  0.0000     0.0  0.0000     0.0     0.0     0.0   \n",
       "neu       0.8110  0.8070  ...  0.2040     1.0  0.2950     1.0     1.0     1.0   \n",
       "pos       0.1280  0.0000  ...  0.7960     0.0  0.7050     0.0     0.0     0.0   \n",
       "compound  0.7876 -0.8887  ...  0.5994     0.0  0.3384     0.0     0.0     0.0   \n",
       "\n",
       "          289157  289158  289159  289160  \n",
       "neg       0.0000     0.0     0.0     0.0  \n",
       "neu       0.2040     1.0     1.0     1.0  \n",
       "pos       0.7960     0.0     0.0     0.0  \n",
       "compound  0.5994     0.0     0.0     0.0  \n",
       "\n",
       "[4 rows x 289160 columns]"
      ]
     },
     "execution_count": 42,
     "metadata": {},
     "output_type": "execute_result"
    }
   ],
   "source": [
    "#Connvertinng the dictionary into dataframe\n",
    "vaders = pd.DataFrame(res)\n",
    "vaders.head()"
   ]
  },
  {
   "cell_type": "code",
   "execution_count": 43,
   "id": "f94364e1-b8e3-47cd-bc82-f812c8817db9",
   "metadata": {},
   "outputs": [
    {
     "data": {
      "text/html": [
       "<div>\n",
       "<style scoped>\n",
       "    .dataframe tbody tr th:only-of-type {\n",
       "        vertical-align: middle;\n",
       "    }\n",
       "\n",
       "    .dataframe tbody tr th {\n",
       "        vertical-align: top;\n",
       "    }\n",
       "\n",
       "    .dataframe thead th {\n",
       "        text-align: right;\n",
       "    }\n",
       "</style>\n",
       "<table border=\"1\" class=\"dataframe\">\n",
       "  <thead>\n",
       "    <tr style=\"text-align: right;\">\n",
       "      <th></th>\n",
       "      <th>neg</th>\n",
       "      <th>neu</th>\n",
       "      <th>pos</th>\n",
       "      <th>compound</th>\n",
       "    </tr>\n",
       "  </thead>\n",
       "  <tbody>\n",
       "    <tr>\n",
       "      <th>1</th>\n",
       "      <td>0.083</td>\n",
       "      <td>0.846</td>\n",
       "      <td>0.071</td>\n",
       "      <td>-0.2800</td>\n",
       "    </tr>\n",
       "    <tr>\n",
       "      <th>2</th>\n",
       "      <td>0.096</td>\n",
       "      <td>0.694</td>\n",
       "      <td>0.210</td>\n",
       "      <td>0.8671</td>\n",
       "    </tr>\n",
       "    <tr>\n",
       "      <th>3</th>\n",
       "      <td>0.105</td>\n",
       "      <td>0.794</td>\n",
       "      <td>0.101</td>\n",
       "      <td>-0.0813</td>\n",
       "    </tr>\n",
       "    <tr>\n",
       "      <th>4</th>\n",
       "      <td>0.098</td>\n",
       "      <td>0.824</td>\n",
       "      <td>0.079</td>\n",
       "      <td>-0.5428</td>\n",
       "    </tr>\n",
       "    <tr>\n",
       "      <th>5</th>\n",
       "      <td>0.169</td>\n",
       "      <td>0.784</td>\n",
       "      <td>0.046</td>\n",
       "      <td>-0.8943</td>\n",
       "    </tr>\n",
       "  </tbody>\n",
       "</table>\n",
       "</div>"
      ],
      "text/plain": [
       "     neg    neu    pos  compound\n",
       "1  0.083  0.846  0.071   -0.2800\n",
       "2  0.096  0.694  0.210    0.8671\n",
       "3  0.105  0.794  0.101   -0.0813\n",
       "4  0.098  0.824  0.079   -0.5428\n",
       "5  0.169  0.784  0.046   -0.8943"
      ]
     },
     "execution_count": 43,
     "metadata": {},
     "output_type": "execute_result"
    }
   ],
   "source": [
    "#We need to traspose the df\n",
    "vaders = vaders.T\n",
    "vaders.head()"
   ]
  },
  {
   "cell_type": "markdown",
   "id": "9c58537e-2dc0-44c6-bef8-dfcc491a1b15",
   "metadata": {},
   "source": [
    "### Introducig a column to use for merging with original df"
   ]
  },
  {
   "cell_type": "code",
   "execution_count": 44,
   "id": "358de055-a7e3-43e0-9d08-323682131357",
   "metadata": {},
   "outputs": [
    {
     "data": {
      "text/html": [
       "<div>\n",
       "<style scoped>\n",
       "    .dataframe tbody tr th:only-of-type {\n",
       "        vertical-align: middle;\n",
       "    }\n",
       "\n",
       "    .dataframe tbody tr th {\n",
       "        vertical-align: top;\n",
       "    }\n",
       "\n",
       "    .dataframe thead th {\n",
       "        text-align: right;\n",
       "    }\n",
       "</style>\n",
       "<table border=\"1\" class=\"dataframe\">\n",
       "  <thead>\n",
       "    <tr style=\"text-align: right;\">\n",
       "      <th></th>\n",
       "      <th>id</th>\n",
       "      <th>neg</th>\n",
       "      <th>neu</th>\n",
       "      <th>pos</th>\n",
       "      <th>compound</th>\n",
       "    </tr>\n",
       "  </thead>\n",
       "  <tbody>\n",
       "    <tr>\n",
       "      <th>0</th>\n",
       "      <td>1</td>\n",
       "      <td>0.083</td>\n",
       "      <td>0.846</td>\n",
       "      <td>0.071</td>\n",
       "      <td>-0.2800</td>\n",
       "    </tr>\n",
       "    <tr>\n",
       "      <th>1</th>\n",
       "      <td>2</td>\n",
       "      <td>0.096</td>\n",
       "      <td>0.694</td>\n",
       "      <td>0.210</td>\n",
       "      <td>0.8671</td>\n",
       "    </tr>\n",
       "    <tr>\n",
       "      <th>2</th>\n",
       "      <td>3</td>\n",
       "      <td>0.105</td>\n",
       "      <td>0.794</td>\n",
       "      <td>0.101</td>\n",
       "      <td>-0.0813</td>\n",
       "    </tr>\n",
       "    <tr>\n",
       "      <th>3</th>\n",
       "      <td>4</td>\n",
       "      <td>0.098</td>\n",
       "      <td>0.824</td>\n",
       "      <td>0.079</td>\n",
       "      <td>-0.5428</td>\n",
       "    </tr>\n",
       "    <tr>\n",
       "      <th>4</th>\n",
       "      <td>5</td>\n",
       "      <td>0.169</td>\n",
       "      <td>0.784</td>\n",
       "      <td>0.046</td>\n",
       "      <td>-0.8943</td>\n",
       "    </tr>\n",
       "  </tbody>\n",
       "</table>\n",
       "</div>"
      ],
      "text/plain": [
       "   id    neg    neu    pos  compound\n",
       "0   1  0.083  0.846  0.071   -0.2800\n",
       "1   2  0.096  0.694  0.210    0.8671\n",
       "2   3  0.105  0.794  0.101   -0.0813\n",
       "3   4  0.098  0.824  0.079   -0.5428\n",
       "4   5  0.169  0.784  0.046   -0.8943"
      ]
     },
     "execution_count": 44,
     "metadata": {},
     "output_type": "execute_result"
    }
   ],
   "source": [
    "vaders = vaders.reset_index().rename(columns = {'index':'id'})\n",
    "vaders.head()"
   ]
  },
  {
   "cell_type": "markdown",
   "id": "1ffe1812-b1c0-4036-84a1-3fce9c4a8ed1",
   "metadata": {},
   "source": [
    "### Joining the scores to respective records"
   ]
  },
  {
   "cell_type": "code",
   "execution_count": 45,
   "id": "48f869ff-cd1e-4480-a024-b4f65600d779",
   "metadata": {},
   "outputs": [
    {
     "data": {
      "text/html": [
       "<div>\n",
       "<style scoped>\n",
       "    .dataframe tbody tr th:only-of-type {\n",
       "        vertical-align: middle;\n",
       "    }\n",
       "\n",
       "    .dataframe tbody tr th {\n",
       "        vertical-align: top;\n",
       "    }\n",
       "\n",
       "    .dataframe thead th {\n",
       "        text-align: right;\n",
       "    }\n",
       "</style>\n",
       "<table border=\"1\" class=\"dataframe\">\n",
       "  <thead>\n",
       "    <tr style=\"text-align: right;\">\n",
       "      <th></th>\n",
       "      <th>id</th>\n",
       "      <th>neg</th>\n",
       "      <th>neu</th>\n",
       "      <th>pos</th>\n",
       "      <th>compound</th>\n",
       "      <th>userName</th>\n",
       "      <th>content</th>\n",
       "      <th>score</th>\n",
       "      <th>thumbsUpCount</th>\n",
       "      <th>reviewCreatedVersion</th>\n",
       "      <th>at</th>\n",
       "      <th>replyContent</th>\n",
       "      <th>repliedAt</th>\n",
       "      <th>review_len</th>\n",
       "    </tr>\n",
       "  </thead>\n",
       "  <tbody>\n",
       "    <tr>\n",
       "      <th>0</th>\n",
       "      <td>1</td>\n",
       "      <td>0.083</td>\n",
       "      <td>0.846</td>\n",
       "      <td>0.071</td>\n",
       "      <td>-0.2800</td>\n",
       "      <td>Disha Sharma</td>\n",
       "      <td>The new update is causing lot of problems in r...</td>\n",
       "      <td>1</td>\n",
       "      <td>6934</td>\n",
       "      <td>10.4.0.13552</td>\n",
       "      <td>2022-06-26 17:39:08</td>\n",
       "      <td>Apologies for the inconvenience. Please drop u...</td>\n",
       "      <td>2022-06-28 14:41:02</td>\n",
       "      <td>499</td>\n",
       "    </tr>\n",
       "    <tr>\n",
       "      <th>1</th>\n",
       "      <td>2</td>\n",
       "      <td>0.096</td>\n",
       "      <td>0.694</td>\n",
       "      <td>0.210</td>\n",
       "      <td>0.8671</td>\n",
       "      <td>#LifeonPassion</td>\n",
       "      <td>This app was amazing until I used the free ver...</td>\n",
       "      <td>1</td>\n",
       "      <td>5526</td>\n",
       "      <td>8.2.0.10847</td>\n",
       "      <td>2021-05-27 22:11:29</td>\n",
       "      <td>We are extremely sorry that you had an unpleas...</td>\n",
       "      <td>2021-06-03 20:45:10</td>\n",
       "      <td>496</td>\n",
       "    </tr>\n",
       "    <tr>\n",
       "      <th>2</th>\n",
       "      <td>3</td>\n",
       "      <td>0.105</td>\n",
       "      <td>0.794</td>\n",
       "      <td>0.101</td>\n",
       "      <td>-0.0813</td>\n",
       "      <td>A Google user</td>\n",
       "      <td>The staffs keep calling and pestering you once...</td>\n",
       "      <td>1</td>\n",
       "      <td>4566</td>\n",
       "      <td>5.3.1.6752</td>\n",
       "      <td>2019-05-21 11:15:05</td>\n",
       "      <td>&lt;NA&gt;</td>\n",
       "      <td>NaT</td>\n",
       "      <td>441</td>\n",
       "    </tr>\n",
       "    <tr>\n",
       "      <th>3</th>\n",
       "      <td>4</td>\n",
       "      <td>0.098</td>\n",
       "      <td>0.824</td>\n",
       "      <td>0.079</td>\n",
       "      <td>-0.5428</td>\n",
       "      <td>A Google user</td>\n",
       "      <td>I am totally not satisfied with this app.I log...</td>\n",
       "      <td>1</td>\n",
       "      <td>4140</td>\n",
       "      <td>5.4.3.6941</td>\n",
       "      <td>2019-08-01 20:04:00</td>\n",
       "      <td>&lt;NA&gt;</td>\n",
       "      <td>NaT</td>\n",
       "      <td>458</td>\n",
       "    </tr>\n",
       "    <tr>\n",
       "      <th>4</th>\n",
       "      <td>5</td>\n",
       "      <td>0.169</td>\n",
       "      <td>0.784</td>\n",
       "      <td>0.046</td>\n",
       "      <td>-0.8943</td>\n",
       "      <td>Soumyadeep Podder</td>\n",
       "      <td>Third class app.The only problem is that I get...</td>\n",
       "      <td>1</td>\n",
       "      <td>4095</td>\n",
       "      <td>10.9.2.14517</td>\n",
       "      <td>2022-10-06 20:53:10</td>\n",
       "      <td>We regret that our team reached out to you mul...</td>\n",
       "      <td>2022-10-07 15:00:55</td>\n",
       "      <td>399</td>\n",
       "    </tr>\n",
       "  </tbody>\n",
       "</table>\n",
       "</div>"
      ],
      "text/plain": [
       "   id    neg    neu    pos  compound           userName  \\\n",
       "0   1  0.083  0.846  0.071   -0.2800       Disha Sharma   \n",
       "1   2  0.096  0.694  0.210    0.8671     #LifeonPassion   \n",
       "2   3  0.105  0.794  0.101   -0.0813      A Google user   \n",
       "3   4  0.098  0.824  0.079   -0.5428      A Google user   \n",
       "4   5  0.169  0.784  0.046   -0.8943  Soumyadeep Podder   \n",
       "\n",
       "                                             content  score  thumbsUpCount  \\\n",
       "0  The new update is causing lot of problems in r...      1           6934   \n",
       "1  This app was amazing until I used the free ver...      1           5526   \n",
       "2  The staffs keep calling and pestering you once...      1           4566   \n",
       "3  I am totally not satisfied with this app.I log...      1           4140   \n",
       "4  Third class app.The only problem is that I get...      1           4095   \n",
       "\n",
       "  reviewCreatedVersion                  at  \\\n",
       "0         10.4.0.13552 2022-06-26 17:39:08   \n",
       "1          8.2.0.10847 2021-05-27 22:11:29   \n",
       "2           5.3.1.6752 2019-05-21 11:15:05   \n",
       "3           5.4.3.6941 2019-08-01 20:04:00   \n",
       "4         10.9.2.14517 2022-10-06 20:53:10   \n",
       "\n",
       "                                        replyContent           repliedAt  \\\n",
       "0  Apologies for the inconvenience. Please drop u... 2022-06-28 14:41:02   \n",
       "1  We are extremely sorry that you had an unpleas... 2021-06-03 20:45:10   \n",
       "2                                               <NA>                 NaT   \n",
       "3                                               <NA>                 NaT   \n",
       "4  We regret that our team reached out to you mul... 2022-10-07 15:00:55   \n",
       "\n",
       "   review_len  \n",
       "0         499  \n",
       "1         496  \n",
       "2         441  \n",
       "3         458  \n",
       "4         399  "
      ]
     },
     "execution_count": 45,
     "metadata": {},
     "output_type": "execute_result"
    }
   ],
   "source": [
    "df_sia = vaders.merge(dff, how = 'left')\n",
    "df_sia.head()"
   ]
  },
  {
   "cell_type": "markdown",
   "id": "832d5d10-7c04-4738-abfc-31a85b5cbcfe",
   "metadata": {},
   "source": [
    "<b> As we have see above, the score for first record is matching"
   ]
  },
  {
   "cell_type": "markdown",
   "id": "6dd83413-55f6-45ed-96fe-7d0377ff14e5",
   "metadata": {},
   "source": [
    "### Introducing a sentiment column"
   ]
  },
  {
   "cell_type": "code",
   "execution_count": 46,
   "id": "090599a0-3e6b-4a7f-9c6a-6ef2d6830d44",
   "metadata": {},
   "outputs": [],
   "source": [
    "df_sia['sentiment'] = np.where((df_sia['compound']<0) , 'neg', 'pos')"
   ]
  },
  {
   "cell_type": "markdown",
   "id": "2b9d014a-d825-453d-bead-7798ae206761",
   "metadata": {},
   "source": [
    "# Convertig all reviews in lowercase"
   ]
  },
  {
   "cell_type": "code",
   "execution_count": null,
   "id": "5604d6e8-4f88-42e5-9d79-234c5af96780",
   "metadata": {},
   "outputs": [],
   "source": [
    "df_sia['content'] = df_sia['content'].str.lower()"
   ]
  },
  {
   "cell_type": "code",
   "execution_count": 47,
   "id": "1e6117ae-e0ec-44cc-baf1-adbcb77f1087",
   "metadata": {},
   "outputs": [
    {
     "data": {
      "text/html": [
       "<div>\n",
       "<style scoped>\n",
       "    .dataframe tbody tr th:only-of-type {\n",
       "        vertical-align: middle;\n",
       "    }\n",
       "\n",
       "    .dataframe tbody tr th {\n",
       "        vertical-align: top;\n",
       "    }\n",
       "\n",
       "    .dataframe thead th {\n",
       "        text-align: right;\n",
       "    }\n",
       "</style>\n",
       "<table border=\"1\" class=\"dataframe\">\n",
       "  <thead>\n",
       "    <tr style=\"text-align: right;\">\n",
       "      <th></th>\n",
       "      <th>id</th>\n",
       "      <th>neg</th>\n",
       "      <th>neu</th>\n",
       "      <th>pos</th>\n",
       "      <th>compound</th>\n",
       "      <th>userName</th>\n",
       "      <th>content</th>\n",
       "      <th>score</th>\n",
       "      <th>thumbsUpCount</th>\n",
       "      <th>reviewCreatedVersion</th>\n",
       "      <th>at</th>\n",
       "      <th>replyContent</th>\n",
       "      <th>repliedAt</th>\n",
       "      <th>review_len</th>\n",
       "      <th>sentiment</th>\n",
       "    </tr>\n",
       "  </thead>\n",
       "  <tbody>\n",
       "    <tr>\n",
       "      <th>0</th>\n",
       "      <td>1</td>\n",
       "      <td>0.083</td>\n",
       "      <td>0.846</td>\n",
       "      <td>0.071</td>\n",
       "      <td>-0.2800</td>\n",
       "      <td>Disha Sharma</td>\n",
       "      <td>The new update is causing lot of problems in r...</td>\n",
       "      <td>1</td>\n",
       "      <td>6934</td>\n",
       "      <td>10.4.0.13552</td>\n",
       "      <td>2022-06-26 17:39:08</td>\n",
       "      <td>Apologies for the inconvenience. Please drop u...</td>\n",
       "      <td>2022-06-28 14:41:02</td>\n",
       "      <td>499</td>\n",
       "      <td>neg</td>\n",
       "    </tr>\n",
       "    <tr>\n",
       "      <th>1</th>\n",
       "      <td>2</td>\n",
       "      <td>0.096</td>\n",
       "      <td>0.694</td>\n",
       "      <td>0.210</td>\n",
       "      <td>0.8671</td>\n",
       "      <td>#LifeonPassion</td>\n",
       "      <td>This app was amazing until I used the free ver...</td>\n",
       "      <td>1</td>\n",
       "      <td>5526</td>\n",
       "      <td>8.2.0.10847</td>\n",
       "      <td>2021-05-27 22:11:29</td>\n",
       "      <td>We are extremely sorry that you had an unpleas...</td>\n",
       "      <td>2021-06-03 20:45:10</td>\n",
       "      <td>496</td>\n",
       "      <td>pos</td>\n",
       "    </tr>\n",
       "    <tr>\n",
       "      <th>2</th>\n",
       "      <td>3</td>\n",
       "      <td>0.105</td>\n",
       "      <td>0.794</td>\n",
       "      <td>0.101</td>\n",
       "      <td>-0.0813</td>\n",
       "      <td>A Google user</td>\n",
       "      <td>The staffs keep calling and pestering you once...</td>\n",
       "      <td>1</td>\n",
       "      <td>4566</td>\n",
       "      <td>5.3.1.6752</td>\n",
       "      <td>2019-05-21 11:15:05</td>\n",
       "      <td>&lt;NA&gt;</td>\n",
       "      <td>NaT</td>\n",
       "      <td>441</td>\n",
       "      <td>neg</td>\n",
       "    </tr>\n",
       "    <tr>\n",
       "      <th>3</th>\n",
       "      <td>4</td>\n",
       "      <td>0.098</td>\n",
       "      <td>0.824</td>\n",
       "      <td>0.079</td>\n",
       "      <td>-0.5428</td>\n",
       "      <td>A Google user</td>\n",
       "      <td>I am totally not satisfied with this app.I log...</td>\n",
       "      <td>1</td>\n",
       "      <td>4140</td>\n",
       "      <td>5.4.3.6941</td>\n",
       "      <td>2019-08-01 20:04:00</td>\n",
       "      <td>&lt;NA&gt;</td>\n",
       "      <td>NaT</td>\n",
       "      <td>458</td>\n",
       "      <td>neg</td>\n",
       "    </tr>\n",
       "    <tr>\n",
       "      <th>4</th>\n",
       "      <td>5</td>\n",
       "      <td>0.169</td>\n",
       "      <td>0.784</td>\n",
       "      <td>0.046</td>\n",
       "      <td>-0.8943</td>\n",
       "      <td>Soumyadeep Podder</td>\n",
       "      <td>Third class app.The only problem is that I get...</td>\n",
       "      <td>1</td>\n",
       "      <td>4095</td>\n",
       "      <td>10.9.2.14517</td>\n",
       "      <td>2022-10-06 20:53:10</td>\n",
       "      <td>We regret that our team reached out to you mul...</td>\n",
       "      <td>2022-10-07 15:00:55</td>\n",
       "      <td>399</td>\n",
       "      <td>neg</td>\n",
       "    </tr>\n",
       "  </tbody>\n",
       "</table>\n",
       "</div>"
      ],
      "text/plain": [
       "   id    neg    neu    pos  compound           userName  \\\n",
       "0   1  0.083  0.846  0.071   -0.2800       Disha Sharma   \n",
       "1   2  0.096  0.694  0.210    0.8671     #LifeonPassion   \n",
       "2   3  0.105  0.794  0.101   -0.0813      A Google user   \n",
       "3   4  0.098  0.824  0.079   -0.5428      A Google user   \n",
       "4   5  0.169  0.784  0.046   -0.8943  Soumyadeep Podder   \n",
       "\n",
       "                                             content  score  thumbsUpCount  \\\n",
       "0  The new update is causing lot of problems in r...      1           6934   \n",
       "1  This app was amazing until I used the free ver...      1           5526   \n",
       "2  The staffs keep calling and pestering you once...      1           4566   \n",
       "3  I am totally not satisfied with this app.I log...      1           4140   \n",
       "4  Third class app.The only problem is that I get...      1           4095   \n",
       "\n",
       "  reviewCreatedVersion                  at  \\\n",
       "0         10.4.0.13552 2022-06-26 17:39:08   \n",
       "1          8.2.0.10847 2021-05-27 22:11:29   \n",
       "2           5.3.1.6752 2019-05-21 11:15:05   \n",
       "3           5.4.3.6941 2019-08-01 20:04:00   \n",
       "4         10.9.2.14517 2022-10-06 20:53:10   \n",
       "\n",
       "                                        replyContent           repliedAt  \\\n",
       "0  Apologies for the inconvenience. Please drop u... 2022-06-28 14:41:02   \n",
       "1  We are extremely sorry that you had an unpleas... 2021-06-03 20:45:10   \n",
       "2                                               <NA>                 NaT   \n",
       "3                                               <NA>                 NaT   \n",
       "4  We regret that our team reached out to you mul... 2022-10-07 15:00:55   \n",
       "\n",
       "   review_len sentiment  \n",
       "0         499       neg  \n",
       "1         496       pos  \n",
       "2         441       neg  \n",
       "3         458       neg  \n",
       "4         399       neg  "
      ]
     },
     "execution_count": 47,
     "metadata": {},
     "output_type": "execute_result"
    }
   ],
   "source": [
    "df_sia.head()"
   ]
  },
  {
   "cell_type": "markdown",
   "id": "18618e4f-d0d4-491f-9e30-140420e9964e",
   "metadata": {},
   "source": [
    "# EDA with VADER scores"
   ]
  },
  {
   "cell_type": "code",
   "execution_count": 48,
   "id": "d7fc1af9-6449-40ca-ac21-8dae6e6344a7",
   "metadata": {},
   "outputs": [
    {
     "data": {
      "image/png": "[encoded data removed]",
      "text/plain": [
       "<Figure size 432x288 with 1 Axes>"
      ]
     },
     "metadata": {
      "needs_background": "light"
     },
     "output_type": "display_data"
    }
   ],
   "source": [
    "sns.barplot(data=df_sia,x='score',y='compound')\n",
    "plt.show()"
   ]
  },
  {
   "cell_type": "markdown",
   "id": "30ff9dc9-40c0-408a-a781-e341f39a3845",
   "metadata": {},
   "source": [
    "<b> Higher the score higher the compound value  \n",
    "    Proof 1 : The VADER model is working well"
   ]
  },
  {
   "cell_type": "code",
   "execution_count": 49,
   "id": "e8e1844a-659a-4d45-8da1-45882403230a",
   "metadata": {},
   "outputs": [
    {
     "data": {
      "image/png": "[encoded data removed]",
      "text/plain": [
       "<Figure size 1440x720 with 6 Axes>"
      ]
     },
     "metadata": {
      "needs_background": "light"
     },
     "output_type": "display_data"
    }
   ],
   "source": [
    "#Seeing frequency distribution of five scores\n",
    "df_sia.hist(column='compound', by='score', bins = 50, figsize=(20,10))\n",
    "plt.show()"
   ]
  },
  {
   "cell_type": "markdown",
   "id": "3c75c7f0-b7b1-4590-81d1-7fdb065a5254",
   "metadata": {},
   "source": [
    "<b> For higher reviews, compound scores are more saturated on positive side  \n",
    "    For lower reviews, compound scores are more saturated on negative side  \n",
    "    There is a significant amount of 0 compound score values in all categories"
   ]
  },
  {
   "cell_type": "code",
   "execution_count": 50,
   "id": "4c648b23-3945-4a9c-bd1e-bbb6a6b82ec0",
   "metadata": {},
   "outputs": [
    {
     "data": {
      "text/plain": [
       "48004"
      ]
     },
     "execution_count": 50,
     "metadata": {},
     "output_type": "execute_result"
    }
   ],
   "source": [
    "#Number of neutral reviews\n",
    "len(df_sia[df_sia['compound']==0])"
   ]
  },
  {
   "cell_type": "code",
   "execution_count": 51,
   "id": "3f933763-9846-4f08-b6d2-a58a30d340ff",
   "metadata": {},
   "outputs": [
    {
     "data": {
      "text/plain": [
       "206050"
      ]
     },
     "execution_count": 51,
     "metadata": {},
     "output_type": "execute_result"
    }
   ],
   "source": [
    "#Number of positive reviews\n",
    "len(df_sia[df_sia['compound']>0])"
   ]
  },
  {
   "cell_type": "code",
   "execution_count": 52,
   "id": "56309841-77f5-4059-bffb-37871e07b9a1",
   "metadata": {},
   "outputs": [
    {
     "data": {
      "text/plain": [
       "35106"
      ]
     },
     "execution_count": 52,
     "metadata": {},
     "output_type": "execute_result"
    }
   ],
   "source": [
    "#Number of negative reviews\n",
    "len(df_sia[df_sia['compound']<0])"
   ]
  },
  {
   "cell_type": "code",
   "execution_count": 53,
   "id": "8d54969b-c706-41dc-ad8e-dd2a2c7586e4",
   "metadata": {
    "scrolled": true,
    "tags": []
   },
   "outputs": [
    {
     "data": {
      "text/html": [
       "<div>\n",
       "<style scoped>\n",
       "    .dataframe tbody tr th:only-of-type {\n",
       "        vertical-align: middle;\n",
       "    }\n",
       "\n",
       "    .dataframe tbody tr th {\n",
       "        vertical-align: top;\n",
       "    }\n",
       "\n",
       "    .dataframe thead th {\n",
       "        text-align: right;\n",
       "    }\n",
       "</style>\n",
       "<table border=\"1\" class=\"dataframe\">\n",
       "  <thead>\n",
       "    <tr style=\"text-align: right;\">\n",
       "      <th></th>\n",
       "      <th>id</th>\n",
       "      <th>neg</th>\n",
       "      <th>neu</th>\n",
       "      <th>pos</th>\n",
       "      <th>compound</th>\n",
       "      <th>userName</th>\n",
       "      <th>content</th>\n",
       "      <th>score</th>\n",
       "      <th>thumbsUpCount</th>\n",
       "      <th>reviewCreatedVersion</th>\n",
       "      <th>at</th>\n",
       "      <th>replyContent</th>\n",
       "      <th>repliedAt</th>\n",
       "      <th>review_len</th>\n",
       "      <th>sentiment</th>\n",
       "    </tr>\n",
       "  </thead>\n",
       "  <tbody>\n",
       "    <tr>\n",
       "      <th>21</th>\n",
       "      <td>22</td>\n",
       "      <td>0.0</td>\n",
       "      <td>1.0</td>\n",
       "      <td>0.0</td>\n",
       "      <td>0.0</td>\n",
       "      <td>Sre Hari Thiagarajan</td>\n",
       "      <td>I bought this app for trial,for 15 days.as I w...</td>\n",
       "      <td>1</td>\n",
       "      <td>911</td>\n",
       "      <td>7.4.0.9502</td>\n",
       "      <td>2020-12-10 08:20:18</td>\n",
       "      <td>We are sorry to hear about your experience. We...</td>\n",
       "      <td>2020-12-11 17:18:14</td>\n",
       "      <td>500</td>\n",
       "      <td>pos</td>\n",
       "    </tr>\n",
       "    <tr>\n",
       "      <th>31</th>\n",
       "      <td>32</td>\n",
       "      <td>0.0</td>\n",
       "      <td>1.0</td>\n",
       "      <td>0.0</td>\n",
       "      <td>0.0</td>\n",
       "      <td>A Google user</td>\n",
       "      <td>This app is only for that who understand engli...</td>\n",
       "      <td>1</td>\n",
       "      <td>683</td>\n",
       "      <td>5.1.1.6546</td>\n",
       "      <td>2019-03-16 17:24:54</td>\n",
       "      <td>&lt;NA&gt;</td>\n",
       "      <td>NaT</td>\n",
       "      <td>183</td>\n",
       "      <td>pos</td>\n",
       "    </tr>\n",
       "    <tr>\n",
       "      <th>39</th>\n",
       "      <td>40</td>\n",
       "      <td>0.0</td>\n",
       "      <td>1.0</td>\n",
       "      <td>0.0</td>\n",
       "      <td>0.0</td>\n",
       "      <td>A Google user</td>\n",
       "      <td>The teachers are saying very very speed...... ...</td>\n",
       "      <td>1</td>\n",
       "      <td>591</td>\n",
       "      <td>3.8.4.3146</td>\n",
       "      <td>2017-05-02 13:25:53</td>\n",
       "      <td>&lt;NA&gt;</td>\n",
       "      <td>NaT</td>\n",
       "      <td>474</td>\n",
       "      <td>pos</td>\n",
       "    </tr>\n",
       "    <tr>\n",
       "      <th>65</th>\n",
       "      <td>66</td>\n",
       "      <td>0.0</td>\n",
       "      <td>1.0</td>\n",
       "      <td>0.0</td>\n",
       "      <td>0.0</td>\n",
       "      <td>A Google user</td>\n",
       "      <td>Its 2016 version and still not updated... fix it</td>\n",
       "      <td>1</td>\n",
       "      <td>430</td>\n",
       "      <td>4.5.0.5048</td>\n",
       "      <td>2018-06-01 13:35:29</td>\n",
       "      <td>Hi! Kindly email us your contact details on ca...</td>\n",
       "      <td>2018-05-07 16:29:48</td>\n",
       "      <td>48</td>\n",
       "      <td>pos</td>\n",
       "    </tr>\n",
       "    <tr>\n",
       "      <th>139</th>\n",
       "      <td>140</td>\n",
       "      <td>0.0</td>\n",
       "      <td>1.0</td>\n",
       "      <td>0.0</td>\n",
       "      <td>0.0</td>\n",
       "      <td>A Google user</td>\n",
       "      <td>It doesnt open any thing only opening first on...</td>\n",
       "      <td>1</td>\n",
       "      <td>220</td>\n",
       "      <td>3.4.1.2645</td>\n",
       "      <td>2016-08-17 22:16:44</td>\n",
       "      <td>&lt;NA&gt;</td>\n",
       "      <td>NaT</td>\n",
       "      <td>88</td>\n",
       "      <td>pos</td>\n",
       "    </tr>\n",
       "    <tr>\n",
       "      <th>...</th>\n",
       "      <td>...</td>\n",
       "      <td>...</td>\n",
       "      <td>...</td>\n",
       "      <td>...</td>\n",
       "      <td>...</td>\n",
       "      <td>...</td>\n",
       "      <td>...</td>\n",
       "      <td>...</td>\n",
       "      <td>...</td>\n",
       "      <td>...</td>\n",
       "      <td>...</td>\n",
       "      <td>...</td>\n",
       "      <td>...</td>\n",
       "      <td>...</td>\n",
       "      <td>...</td>\n",
       "    </tr>\n",
       "    <tr>\n",
       "      <th>289154</th>\n",
       "      <td>289155</td>\n",
       "      <td>0.0</td>\n",
       "      <td>1.0</td>\n",
       "      <td>0.0</td>\n",
       "      <td>0.0</td>\n",
       "      <td>Pintu Singh Kuharwal</td>\n",
       "      <td>Bahut achha</td>\n",
       "      <td>5</td>\n",
       "      <td>0</td>\n",
       "      <td>6.1.2.8367</td>\n",
       "      <td>2020-07-17 12:01:36</td>\n",
       "      <td>&lt;NA&gt;</td>\n",
       "      <td>NaT</td>\n",
       "      <td>11</td>\n",
       "      <td>pos</td>\n",
       "    </tr>\n",
       "    <tr>\n",
       "      <th>289155</th>\n",
       "      <td>289156</td>\n",
       "      <td>0.0</td>\n",
       "      <td>1.0</td>\n",
       "      <td>0.0</td>\n",
       "      <td>0.0</td>\n",
       "      <td>Yogesh Kumawat</td>\n",
       "      <td>MONIKA kumawat</td>\n",
       "      <td>5</td>\n",
       "      <td>0</td>\n",
       "      <td>6.1.2.8367</td>\n",
       "      <td>2020-07-25 12:46:52</td>\n",
       "      <td>&lt;NA&gt;</td>\n",
       "      <td>NaT</td>\n",
       "      <td>14</td>\n",
       "      <td>pos</td>\n",
       "    </tr>\n",
       "    <tr>\n",
       "      <th>289157</th>\n",
       "      <td>289158</td>\n",
       "      <td>0.0</td>\n",
       "      <td>1.0</td>\n",
       "      <td>0.0</td>\n",
       "      <td>0.0</td>\n",
       "      <td>Zahid Pahlavi</td>\n",
       "      <td>Nise app</td>\n",
       "      <td>5</td>\n",
       "      <td>0</td>\n",
       "      <td>6.1.2.8367</td>\n",
       "      <td>2020-07-14 11:52:48</td>\n",
       "      <td>Thank you so much for reviewing our app:). Kee...</td>\n",
       "      <td>2020-07-17 10:56:31</td>\n",
       "      <td>8</td>\n",
       "      <td>pos</td>\n",
       "    </tr>\n",
       "    <tr>\n",
       "      <th>289158</th>\n",
       "      <td>289159</td>\n",
       "      <td>0.0</td>\n",
       "      <td>1.0</td>\n",
       "      <td>0.0</td>\n",
       "      <td>0.0</td>\n",
       "      <td>ayush malode</td>\n",
       "      <td>Exce Lent</td>\n",
       "      <td>5</td>\n",
       "      <td>0</td>\n",
       "      <td>6.1.2.8367</td>\n",
       "      <td>2020-07-30 07:46:24</td>\n",
       "      <td>&lt;NA&gt;</td>\n",
       "      <td>NaT</td>\n",
       "      <td>9</td>\n",
       "      <td>pos</td>\n",
       "    </tr>\n",
       "    <tr>\n",
       "      <th>289159</th>\n",
       "      <td>289160</td>\n",
       "      <td>0.0</td>\n",
       "      <td>1.0</td>\n",
       "      <td>0.0</td>\n",
       "      <td>0.0</td>\n",
       "      <td>Mandeep</td>\n",
       "      <td>Bahattren app</td>\n",
       "      <td>5</td>\n",
       "      <td>0</td>\n",
       "      <td>6.1.2.8367</td>\n",
       "      <td>2020-07-29 13:05:51</td>\n",
       "      <td>&lt;NA&gt;</td>\n",
       "      <td>NaT</td>\n",
       "      <td>13</td>\n",
       "      <td>pos</td>\n",
       "    </tr>\n",
       "  </tbody>\n",
       "</table>\n",
       "<p>48004 rows × 15 columns</p>\n",
       "</div>"
      ],
      "text/plain": [
       "            id  neg  neu  pos  compound              userName  \\\n",
       "21          22  0.0  1.0  0.0       0.0  Sre Hari Thiagarajan   \n",
       "31          32  0.0  1.0  0.0       0.0         A Google user   \n",
       "39          40  0.0  1.0  0.0       0.0         A Google user   \n",
       "65          66  0.0  1.0  0.0       0.0         A Google user   \n",
       "139        140  0.0  1.0  0.0       0.0         A Google user   \n",
       "...        ...  ...  ...  ...       ...                   ...   \n",
       "289154  289155  0.0  1.0  0.0       0.0  Pintu Singh Kuharwal   \n",
       "289155  289156  0.0  1.0  0.0       0.0        Yogesh Kumawat   \n",
       "289157  289158  0.0  1.0  0.0       0.0         Zahid Pahlavi   \n",
       "289158  289159  0.0  1.0  0.0       0.0          ayush malode   \n",
       "289159  289160  0.0  1.0  0.0       0.0               Mandeep   \n",
       "\n",
       "                                                  content  score  \\\n",
       "21      I bought this app for trial,for 15 days.as I w...      1   \n",
       "31      This app is only for that who understand engli...      1   \n",
       "39      The teachers are saying very very speed...... ...      1   \n",
       "65       Its 2016 version and still not updated... fix it      1   \n",
       "139     It doesnt open any thing only opening first on...      1   \n",
       "...                                                   ...    ...   \n",
       "289154                                        Bahut achha      5   \n",
       "289155                                     MONIKA kumawat      5   \n",
       "289157                                           Nise app      5   \n",
       "289158                                          Exce Lent      5   \n",
       "289159                                      Bahattren app      5   \n",
       "\n",
       "        thumbsUpCount reviewCreatedVersion                  at  \\\n",
       "21                911           7.4.0.9502 2020-12-10 08:20:18   \n",
       "31                683           5.1.1.6546 2019-03-16 17:24:54   \n",
       "39                591           3.8.4.3146 2017-05-02 13:25:53   \n",
       "65                430           4.5.0.5048 2018-06-01 13:35:29   \n",
       "139               220           3.4.1.2645 2016-08-17 22:16:44   \n",
       "...               ...                  ...                 ...   \n",
       "289154              0           6.1.2.8367 2020-07-17 12:01:36   \n",
       "289155              0           6.1.2.8367 2020-07-25 12:46:52   \n",
       "289157              0           6.1.2.8367 2020-07-14 11:52:48   \n",
       "289158              0           6.1.2.8367 2020-07-30 07:46:24   \n",
       "289159              0           6.1.2.8367 2020-07-29 13:05:51   \n",
       "\n",
       "                                             replyContent           repliedAt  \\\n",
       "21      We are sorry to hear about your experience. We... 2020-12-11 17:18:14   \n",
       "31                                                   <NA>                 NaT   \n",
       "39                                                   <NA>                 NaT   \n",
       "65      Hi! Kindly email us your contact details on ca... 2018-05-07 16:29:48   \n",
       "139                                                  <NA>                 NaT   \n",
       "...                                                   ...                 ...   \n",
       "289154                                               <NA>                 NaT   \n",
       "289155                                               <NA>                 NaT   \n",
       "289157  Thank you so much for reviewing our app:). Kee... 2020-07-17 10:56:31   \n",
       "289158                                               <NA>                 NaT   \n",
       "289159                                               <NA>                 NaT   \n",
       "\n",
       "        review_len sentiment  \n",
       "21             500       pos  \n",
       "31             183       pos  \n",
       "39             474       pos  \n",
       "65              48       pos  \n",
       "139             88       pos  \n",
       "...            ...       ...  \n",
       "289154          11       pos  \n",
       "289155          14       pos  \n",
       "289157           8       pos  \n",
       "289158           9       pos  \n",
       "289159          13       pos  \n",
       "\n",
       "[48004 rows x 15 columns]"
      ]
     },
     "execution_count": 53,
     "metadata": {},
     "output_type": "execute_result"
    }
   ],
   "source": [
    "df_sia[df_sia['compound']==0]"
   ]
  },
  {
   "cell_type": "markdown",
   "id": "899dd805-399f-4d78-8fba-57538a5427c2",
   "metadata": {},
   "source": [
    "### There is a significant number of neutral scores\n",
    "#### We need to introduce a neutral tag too"
   ]
  },
  {
   "cell_type": "code",
   "execution_count": 54,
   "id": "458fe613-c7c2-4f9c-8a4f-9ae71a79ac35",
   "metadata": {},
   "outputs": [],
   "source": [
    "sent = []"
   ]
  },
  {
   "cell_type": "code",
   "execution_count": 55,
   "id": "f81fdb87-0fb6-40f8-8fd4-cbde33aebd20",
   "metadata": {},
   "outputs": [],
   "source": [
    "for row in df_sia['compound'] :\n",
    "    if row == 0 :\n",
    "        sent.append('neu')\n",
    "    elif row > 0 :\n",
    "        sent.append('pos')\n",
    "    else :\n",
    "        sent.append('neg')"
   ]
  },
  {
   "cell_type": "code",
   "execution_count": 56,
   "id": "a5080082-1b16-467b-aff7-3f4308ebf318",
   "metadata": {
    "scrolled": true,
    "tags": []
   },
   "outputs": [
    {
     "data": {
      "text/plain": [
       "['neg', 'pos', 'neg', 'neg', 'neg']"
      ]
     },
     "execution_count": 56,
     "metadata": {},
     "output_type": "execute_result"
    }
   ],
   "source": [
    "sent[:5]"
   ]
  },
  {
   "cell_type": "code",
   "execution_count": 57,
   "id": "6d2fb3c3-3542-4eb7-b38f-b8b3377ed3a4",
   "metadata": {},
   "outputs": [],
   "source": [
    "#New tags added\n",
    "df_sia['sentiment']= sent"
   ]
  },
  {
   "cell_type": "code",
   "execution_count": 58,
   "id": "0a3d03c0-b9f1-4a4c-88b1-6dec8066b5ab",
   "metadata": {},
   "outputs": [
    {
     "data": {
      "text/plain": [
       "sentiment\n",
       "neg     35106\n",
       "neu     48004\n",
       "pos    206050\n",
       "Name: id, dtype: int64"
      ]
     },
     "execution_count": 58,
     "metadata": {},
     "output_type": "execute_result"
    }
   ],
   "source": [
    "df_sia.groupby('sentiment').count()['id']"
   ]
  },
  {
   "cell_type": "markdown",
   "id": "f32e6892-8a1e-49d4-bf26-d3027ebc94b9",
   "metadata": {},
   "source": [
    "# EDA with Tags"
   ]
  },
  {
   "cell_type": "code",
   "execution_count": 59,
   "id": "3dc68d62-f323-414f-9acd-de9659f11d68",
   "metadata": {},
   "outputs": [
    {
     "data": {
      "image/png": "[encoded data removed]",
      "text/plain": [
       "<Figure size 1080x360 with 3 Axes>"
      ]
     },
     "metadata": {
      "needs_background": "light"
     },
     "output_type": "display_data"
    }
   ],
   "source": [
    "fig, axs = plt.subplots(1, 3, figsize=(15, 5))\n",
    "sns.barplot(data=df_sia, x='score', y=\"pos\", ax=axs[0])\n",
    "sns.barplot (data=df_sia, x='score' ,y= \"neu\", ax=axs[1])\n",
    "sns. barplot (data=df_sia, x='score', y='neg', ax=axs[2])\n",
    "axs[0].set_title('Positive')\n",
    "axs[1].set_title(\"Neutral\")\n",
    "axs[2].set_title('Negative')\n",
    "\n",
    "plt.show()"
   ]
  },
  {
   "cell_type": "markdown",
   "id": "f6e7283d-041e-41e6-ad24-0f03e41bd437",
   "metadata": {},
   "source": [
    "<b> The above figure shows :  \n",
    "    1. Most positive tagged reviews are from score 3 to 5  \n",
    "    2. Most negative tagged reviews are from score 1 or 2  \n",
    "    3. Neutrally tagges reviews are from all scores but relatively more from lower scores"
   ]
  },
  {
   "cell_type": "markdown",
   "id": "55ff2ee8-1047-40d8-a06d-4e60ebaef0d4",
   "metadata": {},
   "source": [
    "## Investigating Reviews With Neutral Tag"
   ]
  },
  {
   "cell_type": "markdown",
   "id": "27f5cd2c-a8dc-489d-9cad-aceaf57c947c",
   "metadata": {},
   "source": [
    "### Thumbsup Counts"
   ]
  },
  {
   "cell_type": "code",
   "execution_count": 60,
   "id": "b9171b5c-19b8-42d7-9f4b-baa8c781a14f",
   "metadata": {},
   "outputs": [
    {
     "data": {
      "text/plain": [
       "count    48004.000000\n",
       "mean         0.223648\n",
       "std          7.899140\n",
       "min          0.000000\n",
       "25%          0.000000\n",
       "50%          0.000000\n",
       "75%          0.000000\n",
       "max        911.000000\n",
       "Name: thumbsUpCount, dtype: float64"
      ]
     },
     "execution_count": 60,
     "metadata": {},
     "output_type": "execute_result"
    }
   ],
   "source": [
    "df_sia[(df_sia['compound'] == 0)]['thumbsUpCount'].describe()"
   ]
  },
  {
   "cell_type": "code",
   "execution_count": 61,
   "id": "9a871c02-5695-4621-90a7-d7ee2f39a990",
   "metadata": {},
   "outputs": [
    {
     "data": {
      "image/png": "[encoded data removed]",
      "text/plain": [
       "<Figure size 432x288 with 1 Axes>"
      ]
     },
     "metadata": {
      "needs_background": "light"
     },
     "output_type": "display_data"
    }
   ],
   "source": [
    "df_sia.hist(column='thumbsUpCount')\n",
    "plt.show()"
   ]
  },
  {
   "cell_type": "markdown",
   "id": "a431cee8-5dc5-4d64-9fe3-6c8de0a6cc64",
   "metadata": {},
   "source": [
    "<b> Looks like there are way too many 0 entries"
   ]
  },
  {
   "cell_type": "code",
   "execution_count": 62,
   "id": "f1a5a047-c475-42ee-bf41-216bc0564c0e",
   "metadata": {},
   "outputs": [
    {
     "data": {
      "image/png": "[encoded data removed]",
      "text/plain": [
       "<Figure size 432x288 with 1 Axes>"
      ]
     },
     "metadata": {
      "needs_background": "light"
     },
     "output_type": "display_data"
    }
   ],
   "source": [
    "df_sia[(df_sia['thumbsUpCount']>10) & (df_sia['thumbsUpCount']<100)].hist(column='thumbsUpCount')\n",
    "plt.show()"
   ]
  },
  {
   "cell_type": "markdown",
   "id": "48295f68-c3f6-416e-bc41-ed43b78c17af",
   "metadata": {},
   "source": [
    "<b> This shows that thumbsups are very rare on most reviews"
   ]
  },
  {
   "cell_type": "markdown",
   "id": "af46c2b8-684c-45aa-8771-b5b788ed0d91",
   "metadata": {},
   "source": [
    "### Length"
   ]
  },
  {
   "cell_type": "code",
   "execution_count": 63,
   "id": "ef428eb9-1cc6-4212-b667-008576af5cbd",
   "metadata": {},
   "outputs": [
    {
     "data": {
      "text/plain": [
       "count    48004.000000\n",
       "mean        28.935526\n",
       "std         37.497987\n",
       "min          1.000000\n",
       "25%          8.000000\n",
       "50%         19.000000\n",
       "75%         35.000000\n",
       "max        500.000000\n",
       "Name: review_len, dtype: float64"
      ]
     },
     "execution_count": 63,
     "metadata": {},
     "output_type": "execute_result"
    }
   ],
   "source": [
    "df_sia[df_sia['compound']==0]['review_len'].describe()"
   ]
  },
  {
   "cell_type": "markdown",
   "id": "153ae54f-60a5-4be7-9e4d-c497736e0883",
   "metadata": {},
   "source": [
    "<b> The Median review length is 19 characters. Later while filtering we can consider reviews with more than 19 characters"
   ]
  },
  {
   "cell_type": "code",
   "execution_count": 64,
   "id": "25492f16-8664-4273-9cef-4055f52f69ec",
   "metadata": {},
   "outputs": [
    {
     "data": {
      "text/plain": [
       "array([[<AxesSubplot:title={'center':'review_len'}>]], dtype=object)"
      ]
     },
     "execution_count": 64,
     "metadata": {},
     "output_type": "execute_result"
    },
    {
     "data": {
      "image/png": "[encoded data removed]",
      "text/plain": [
       "<Figure size 432x288 with 1 Axes>"
      ]
     },
     "metadata": {
      "needs_background": "light"
     },
     "output_type": "display_data"
    }
   ],
   "source": [
    "df_sia[df_sia['compound']==0].hist(column = 'review_len')"
   ]
  },
  {
   "cell_type": "markdown",
   "id": "a03f216a-eae1-4fd5-9d50-48831399afeb",
   "metadata": {},
   "source": [
    "## Investigating Reviews With Positive Tag"
   ]
  },
  {
   "cell_type": "markdown",
   "id": "afa4e8ab-f6c1-4bbf-8311-9b98d069cc66",
   "metadata": {},
   "source": [
    "### Thumbsup Counts"
   ]
  },
  {
   "cell_type": "code",
   "execution_count": 65,
   "id": "5da7645b-b43a-475a-8278-ee92ea22ff35",
   "metadata": {},
   "outputs": [
    {
     "data": {
      "text/plain": [
       "count    206050.000000\n",
       "mean          2.232225\n",
       "std          67.213201\n",
       "min           0.000000\n",
       "25%           0.000000\n",
       "50%           0.000000\n",
       "75%           0.000000\n",
       "max       10783.000000\n",
       "Name: thumbsUpCount, dtype: float64"
      ]
     },
     "execution_count": 65,
     "metadata": {},
     "output_type": "execute_result"
    }
   ],
   "source": [
    "df_sia[(df_sia['compound'] > 0)]['thumbsUpCount'].describe()"
   ]
  },
  {
   "cell_type": "code",
   "execution_count": 66,
   "id": "b3963ebf-fb48-4c58-8179-c51c9557a448",
   "metadata": {},
   "outputs": [
    {
     "data": {
      "image/png": "[encoded data removed]",
      "text/plain": [
       "<Figure size 432x288 with 1 Axes>"
      ]
     },
     "metadata": {
      "needs_background": "light"
     },
     "output_type": "display_data"
    }
   ],
   "source": [
    "df_sia[(df_sia['compound'] > 0)].hist(column='thumbsUpCount')\n",
    "plt.show()"
   ]
  },
  {
   "cell_type": "markdown",
   "id": "9c1c4151-0fe0-47c8-bca6-833e03dbe9fc",
   "metadata": {},
   "source": [
    "<b> Looks like there are way too many 0 entries"
   ]
  },
  {
   "cell_type": "code",
   "execution_count": 67,
   "id": "a24933ab-42d9-4548-9dd4-1305d3c7cc71",
   "metadata": {},
   "outputs": [
    {
     "data": {
      "image/png": "[encoded data removed]",
      "text/plain": [
       "<Figure size 432x288 with 1 Axes>"
      ]
     },
     "metadata": {
      "needs_background": "light"
     },
     "output_type": "display_data"
    }
   ],
   "source": [
    "df_sia[(df_sia['compound'] > 0) & (df_sia['thumbsUpCount']>10) & (df_sia['thumbsUpCount']<100)].hist(column='thumbsUpCount')\n",
    "plt.show()"
   ]
  },
  {
   "cell_type": "markdown",
   "id": "3c952d62-2b72-4a43-ba1f-f56e5f8736d3",
   "metadata": {},
   "source": [
    "<b> This shows that thumbsups are very rare on most reviews"
   ]
  },
  {
   "cell_type": "markdown",
   "id": "8fa23548-9337-4f09-9f03-6a8a6b4c5317",
   "metadata": {},
   "source": [
    "### Length"
   ]
  },
  {
   "cell_type": "code",
   "execution_count": 68,
   "id": "0e7a7eb1-fd4e-4d2a-9920-b4230e41d3da",
   "metadata": {},
   "outputs": [
    {
     "data": {
      "text/plain": [
       "count    206050.000000\n",
       "mean         54.889949\n",
       "std          75.118820\n",
       "min           2.000000\n",
       "25%          13.000000\n",
       "50%          28.000000\n",
       "75%          64.000000\n",
       "max        1946.000000\n",
       "Name: review_len, dtype: float64"
      ]
     },
     "execution_count": 68,
     "metadata": {},
     "output_type": "execute_result"
    }
   ],
   "source": [
    "df_sia[df_sia['compound']>0]['review_len'].describe()"
   ]
  },
  {
   "cell_type": "markdown",
   "id": "d5aaba7f-3138-48c4-8c19-04d4b853b012",
   "metadata": {},
   "source": [
    "<b> The Median review length is 28 characters. Later while filtering we can consider reviews with more than 28 characters"
   ]
  },
  {
   "cell_type": "code",
   "execution_count": 69,
   "id": "5e5e3961-1b3d-4405-8da0-8b486a50031d",
   "metadata": {
    "tags": []
   },
   "outputs": [
    {
     "data": {
      "text/plain": [
       "array([[<AxesSubplot:title={'center':'review_len'}>]], dtype=object)"
      ]
     },
     "execution_count": 69,
     "metadata": {},
     "output_type": "execute_result"
    },
    {
     "data": {
      "image/png": "[encoded data removed]",
      "text/plain": [
       "<Figure size 432x288 with 1 Axes>"
      ]
     },
     "metadata": {
      "needs_background": "light"
     },
     "output_type": "display_data"
    }
   ],
   "source": [
    "df_sia[df_sia['compound']>0].hist(column = 'review_len')"
   ]
  },
  {
   "cell_type": "markdown",
   "id": "268832fb-4671-4a14-a2af-2ba61fdf7244",
   "metadata": {},
   "source": [
    "## Investigating Reviews With Negative Tag"
   ]
  },
  {
   "cell_type": "markdown",
   "id": "cae9ea60-3323-4dc0-9142-667741d7fc07",
   "metadata": {},
   "source": [
    "### Thumbsup Counts"
   ]
  },
  {
   "cell_type": "code",
   "execution_count": 70,
   "id": "4aa92704-a692-4850-8bbe-bee2da6ba1e1",
   "metadata": {},
   "outputs": [
    {
     "data": {
      "text/plain": [
       "count    35106.000000\n",
       "mean         4.474563\n",
       "std         82.048311\n",
       "min          0.000000\n",
       "25%          0.000000\n",
       "50%          0.000000\n",
       "75%          0.000000\n",
       "max       6934.000000\n",
       "Name: thumbsUpCount, dtype: float64"
      ]
     },
     "execution_count": 70,
     "metadata": {},
     "output_type": "execute_result"
    }
   ],
   "source": [
    "df_sia[(df_sia['compound'] < 0)]['thumbsUpCount'].describe()"
   ]
  },
  {
   "cell_type": "code",
   "execution_count": 71,
   "id": "96bc1f8a-61cc-47cc-95ec-0f1149f15196",
   "metadata": {},
   "outputs": [
    {
     "data": {
      "image/png": "[encoded data removed]",
      "text/plain": [
       "<Figure size 432x288 with 1 Axes>"
      ]
     },
     "metadata": {
      "needs_background": "light"
     },
     "output_type": "display_data"
    }
   ],
   "source": [
    "df_sia[(df_sia['compound'] < 0)].hist(column='thumbsUpCount')\n",
    "plt.show()"
   ]
  },
  {
   "cell_type": "markdown",
   "id": "281a0097-d828-4f6b-8441-10369e8d92e0",
   "metadata": {},
   "source": [
    "<b> Looks like there are way too many 0 entries"
   ]
  },
  {
   "cell_type": "code",
   "execution_count": 72,
   "id": "47de4bae-5ad7-466f-89c7-99faffee2300",
   "metadata": {},
   "outputs": [
    {
     "data": {
      "image/png": "[encoded data removed]",
      "text/plain": [
       "<Figure size 432x288 with 1 Axes>"
      ]
     },
     "metadata": {
      "needs_background": "light"
     },
     "output_type": "display_data"
    }
   ],
   "source": [
    "df_sia[(df_sia['compound'] < 0) & \\\n",
    "       (df_sia['thumbsUpCount']>10) \\\n",
    "       & (df_sia['thumbsUpCount']<100)].hist(column='thumbsUpCount')\n",
    "plt.show()"
   ]
  },
  {
   "cell_type": "markdown",
   "id": "c8021332-cd4a-4280-a5bc-21cbb7db4ee6",
   "metadata": {},
   "source": [
    "<b> This shows that thumbsups are very rare on most reviews"
   ]
  },
  {
   "cell_type": "markdown",
   "id": "ad1bb32b-2719-44a8-904b-cd81091628f4",
   "metadata": {},
   "source": [
    "### Length"
   ]
  },
  {
   "cell_type": "code",
   "execution_count": 73,
   "id": "02e015d8-31e9-493d-a21b-4757a416f051",
   "metadata": {},
   "outputs": [
    {
     "data": {
      "text/plain": [
       "count    35106.000000\n",
       "mean        98.878226\n",
       "std        112.257058\n",
       "min          2.000000\n",
       "25%         21.000000\n",
       "50%         60.000000\n",
       "75%        132.000000\n",
       "max       1715.000000\n",
       "Name: review_len, dtype: float64"
      ]
     },
     "execution_count": 73,
     "metadata": {},
     "output_type": "execute_result"
    }
   ],
   "source": [
    "df_sia[df_sia['compound']<0]['review_len'].describe()"
   ]
  },
  {
   "cell_type": "markdown",
   "id": "b9157873-b570-4263-8975-54498c076405",
   "metadata": {},
   "source": [
    "<b> The Median review length is 60 characters. Later while filtering we can consider reviews with more than 60 characters"
   ]
  },
  {
   "cell_type": "code",
   "execution_count": 74,
   "id": "26478134-3726-4b75-982a-4beff22eafbe",
   "metadata": {
    "tags": []
   },
   "outputs": [
    {
     "data": {
      "image/png": "[encoded data removed]",
      "text/plain": [
       "<Figure size 432x288 with 1 Axes>"
      ]
     },
     "metadata": {
      "needs_background": "light"
     },
     "output_type": "display_data"
    }
   ],
   "source": [
    "df_sia[df_sia['compound']<0].hist(column = 'review_len')\n",
    "plt.show()"
   ]
  },
  {
   "cell_type": "code",
   "execution_count": null,
   "id": "c5483b89-10f5-4569-8a41-8a1529770aa6",
   "metadata": {},
   "outputs": [],
   "source": []
  },
  {
   "cell_type": "code",
   "execution_count": null,
   "id": "a54ce4db-7b09-45ba-bd4c-f08342bdc27d",
   "metadata": {},
   "outputs": [],
   "source": []
  },
  {
   "cell_type": "code",
   "execution_count": null,
   "id": "bfe4ed45-a46a-43e0-887d-98b79d28a4f1",
   "metadata": {},
   "outputs": [],
   "source": []
  },
  {
   "cell_type": "code",
   "execution_count": null,
   "id": "01d4e5bf-211c-4f8c-a4da-eb499fa8df6b",
   "metadata": {},
   "outputs": [],
   "source": []
  },
  {
   "cell_type": "code",
   "execution_count": null,
   "id": "f80f5661-646a-4161-aa23-c6ebb6b94daa",
   "metadata": {},
   "outputs": [],
   "source": []
  },
  {
   "cell_type": "markdown",
   "id": "ed095dec-dab6-420c-9ffb-f8957011a537",
   "metadata": {},
   "source": [
    "# Doubts"
   ]
  },
  {
   "cell_type": "markdown",
   "id": "051db16e-72cb-4299-92bb-6f7db0f3c09c",
   "metadata": {},
   "source": [
    "1. Sample size for Tally Method\n",
    "2. Criterion for filtering dataset to sample"
   ]
  },
  {
   "cell_type": "code",
   "execution_count": null,
   "id": "5d8960c4-021d-4e50-a8e1-0c402270e567",
   "metadata": {},
   "outputs": [],
   "source": []
  },
  {
   "cell_type": "code",
   "execution_count": null,
   "id": "e414fdc8-3c7b-4a6d-aef4-d9c6c7dc3d73",
   "metadata": {},
   "outputs": [],
   "source": []
  },
  {
   "cell_type": "code",
   "execution_count": null,
   "id": "fe0c8582-d4e6-41a4-8f32-550204135099",
   "metadata": {},
   "outputs": [],
   "source": []
  },
  {
   "cell_type": "code",
   "execution_count": 75,
   "id": "ea84d7c6-d345-4ae0-8acc-3d4884ab6e79",
   "metadata": {},
   "outputs": [],
   "source": [
    "df_pos = df_sia[df_sia['compound']>0]\n",
    "df_neg = df_sia[df_sia['compound']<0]\n",
    "df_neu = df_sia[df_sia['compound']==0]"
   ]
  },
  {
   "cell_type": "markdown",
   "id": "d8005340-a266-4aa8-93a0-26ec2f5d72f8",
   "metadata": {},
   "source": [
    "# Bag Of Words"
   ]
  },
  {
   "cell_type": "markdown",
   "id": "a0ec55c9-650b-4a93-9cfc-d0f928cce78b",
   "metadata": {},
   "source": [
    "## Creating a bag of all words from all reviews"
   ]
  },
  {
   "cell_type": "code",
   "execution_count": 76,
   "id": "111341fd-5278-4937-a44e-8cbe41ae2fa6",
   "metadata": {},
   "outputs": [
    {
     "name": "stderr",
     "output_type": "stream",
     "text": [
      "100%|██████████| 289160/289160 [01:22<00:00, 3487.83it/s]\n"
     ]
    }
   ],
   "source": [
    "bow = []\n",
    "\n",
    "for i, row in tqdm(df_sia.iterrows(), total=len(df_sia)):\n",
    "    text = row['content']\n",
    "    words = word_tokenize(text)\n",
    "    \n",
    "    for w in words : \n",
    "        bow.append(w.lower())"
   ]
  },
  {
   "cell_type": "code",
   "execution_count": 77,
   "id": "8d328815-3f8c-4301-9cab-7b7f072f7b06",
   "metadata": {},
   "outputs": [
    {
     "data": {
      "text/plain": [
       "['the', 'new', 'update', 'is', 'causing', 'lot', 'of', 'problems', 'in']"
      ]
     },
     "execution_count": 77,
     "metadata": {},
     "output_type": "execute_result"
    }
   ],
   "source": [
    "bow[:9]"
   ]
  },
  {
   "cell_type": "code",
   "execution_count": 78,
   "id": "17f4910d-3f2c-42ce-ae30-fdae445c20fb",
   "metadata": {},
   "outputs": [
    {
     "data": {
      "text/plain": [
       "3342963"
      ]
     },
     "execution_count": 78,
     "metadata": {},
     "output_type": "execute_result"
    }
   ],
   "source": [
    "len(bow)"
   ]
  },
  {
   "cell_type": "markdown",
   "id": "37114d1b-530e-4530-8572-2fd96899b15f",
   "metadata": {},
   "source": [
    "<b> There are total 33 Lack 42 Thousand 963 words retrieved from 2 Lack 89 Thousad 182 Reviews"
   ]
  },
  {
   "cell_type": "code",
   "execution_count": 91,
   "id": "cbe8fbd0-6732-437c-9f80-73537f20e13e",
   "metadata": {},
   "outputs": [
    {
     "data": {
      "text/plain": [
       "82442"
      ]
     },
     "execution_count": 91,
     "metadata": {},
     "output_type": "execute_result"
    }
   ],
   "source": [
    "len(set(bow))"
   ]
  },
  {
   "cell_type": "markdown",
   "id": "a7ef9fc2-76d5-4310-9587-a3fe5dd9d836",
   "metadata": {},
   "source": [
    "<b> There are total 95 Thousand 635 unique words in 2 Lack 89 Thousad 182 Reviews"
   ]
  },
  {
   "cell_type": "markdown",
   "id": "5f123425-d7ba-4406-953b-b7cc2948e03b",
   "metadata": {},
   "source": [
    "## Creating an nltk frequency distribution object"
   ]
  },
  {
   "cell_type": "code",
   "execution_count": 92,
   "id": "109ddbfd-374a-454c-8edf-1dced99757b8",
   "metadata": {},
   "outputs": [
    {
     "data": {
      "text/plain": [
       "nltk.probability.FreqDist"
      ]
     },
     "execution_count": 92,
     "metadata": {},
     "output_type": "execute_result"
    }
   ],
   "source": [
    "bow_fd = nltk.FreqDist(bow)\n",
    "type(bow_fd)"
   ]
  },
  {
   "cell_type": "code",
   "execution_count": 93,
   "id": "42252547-8546-491a-9183-c9c4a84e724e",
   "metadata": {},
   "outputs": [
    {
     "data": {
      "text/plain": [
       "[('app', 156002),\n",
       " ('it', 97762),\n",
       " ('is', 93944),\n",
       " ('i', 93421),\n",
       " ('.', 82897),\n",
       " ('very', 81217),\n",
       " ('this', 75249),\n",
       " ('the', 74427),\n",
       " ('and', 68454),\n",
       " ('good', 68066),\n",
       " ('to', 65287),\n",
       " ('for', 64681),\n",
       " ('a', 43562),\n",
       " ('in', 40618),\n",
       " ('nice', 37963)]"
      ]
     },
     "execution_count": 93,
     "metadata": {},
     "output_type": "execute_result"
    }
   ],
   "source": [
    "bow_fd.most_common(15)"
   ]
  },
  {
   "cell_type": "markdown",
   "id": "5fbd7f1b-c6e9-48cf-9409-08553ca733cd",
   "metadata": {},
   "source": [
    "### We need to remove stopwords like a, an, the etc. & puctuation"
   ]
  },
  {
   "cell_type": "code",
   "execution_count": 94,
   "id": "2b266fbd-4677-4254-ad1f-0df59f215d26",
   "metadata": {},
   "outputs": [],
   "source": [
    "stop_words = stopwords.words('english')\n",
    "punctuation = list(string.punctuation)"
   ]
  },
  {
   "cell_type": "code",
   "execution_count": 95,
   "id": "60b9ff20-7554-4193-bb49-9b8e28d3d9a6",
   "metadata": {},
   "outputs": [],
   "source": [
    "bow_clean = [w for w in bow if w not in stop_words and w not in punctuation]"
   ]
  },
  {
   "cell_type": "markdown",
   "id": "7d3127b4-55a4-4f5a-a9b2-55ad712bb78d",
   "metadata": {},
   "source": [
    "# Stemming & Lemmatization"
   ]
  },
  {
   "cell_type": "code",
   "execution_count": 96,
   "id": "60490de9-6cfb-49d7-84ee-8d97bb64ef68",
   "metadata": {},
   "outputs": [
    {
     "data": {
      "text/plain": [
       "1806977"
      ]
     },
     "execution_count": 96,
     "metadata": {},
     "output_type": "execute_result"
    }
   ],
   "source": [
    "len(bow_clean)"
   ]
  },
  {
   "cell_type": "markdown",
   "id": "69120c8b-dbd9-412a-8550-e147bd1f03a3",
   "metadata": {},
   "source": [
    "<b> The total number of words dropped from aroud 33 Lack to 18 Lack 6 Thousand 977"
   ]
  },
  {
   "cell_type": "code",
   "execution_count": 97,
   "id": "ec424a6f-8751-4574-8fba-ebed7f393017",
   "metadata": {},
   "outputs": [
    {
     "data": {
      "text/plain": [
       "82268"
      ]
     },
     "execution_count": 97,
     "metadata": {},
     "output_type": "execute_result"
    }
   ],
   "source": [
    "len(set(bow_clean))"
   ]
  },
  {
   "cell_type": "markdown",
   "id": "cfc79bf2-2da7-4d79-8068-32a9bcad5aa7",
   "metadata": {},
   "source": [
    "<b> The total number of unique words dropped from aroud 95 Thousand and 635 to 82 Thousand and 268"
   ]
  },
  {
   "cell_type": "markdown",
   "id": "ca46c241-2b9a-4ef0-8dbe-a69d9fed2533",
   "metadata": {},
   "source": [
    "## Creating an nltk frequency distribution object for cleaned bow"
   ]
  },
  {
   "cell_type": "code",
   "execution_count": 98,
   "id": "2a318239-50f4-4b46-9ac0-4dd65de7d1b1",
   "metadata": {},
   "outputs": [],
   "source": [
    "bow_clean_fd = nltk.FreqDist(bow_clean)"
   ]
  },
  {
   "cell_type": "code",
   "execution_count": 99,
   "id": "3c0db418-ae14-4147-b5e6-4393e8841032",
   "metadata": {},
   "outputs": [
    {
     "data": {
      "text/plain": [
       "FreqDist({'app': 156002, 'good': 68066, 'nice': 37963, 'learning': 37186, \"'s\": 35592, 'best': 26851, \"n't\": 17061, 'like': 15995, 'learn': 14155, 'byjus': 14097, ...})"
      ]
     },
     "execution_count": 99,
     "metadata": {},
     "output_type": "execute_result"
    }
   ],
   "source": [
    "bow_clean_fd"
   ]
  },
  {
   "cell_type": "markdown",
   "id": "90b36991-d27d-419f-9ed2-63f864deb37b",
   "metadata": {},
   "source": [
    "## Most Occuring Words"
   ]
  },
  {
   "cell_type": "code",
   "execution_count": 100,
   "id": "d9e01dba-d002-4beb-97ff-df3dfb6e17d5",
   "metadata": {},
   "outputs": [
    {
     "data": {
      "text/plain": [
       "[('app', 156002),\n",
       " ('good', 68066),\n",
       " ('nice', 37963),\n",
       " ('learning', 37186),\n",
       " (\"'s\", 35592),\n",
       " ('best', 26851),\n",
       " (\"n't\", 17061),\n",
       " ('like', 15995),\n",
       " ('learn', 14155),\n",
       " ('byjus', 14097),\n",
       " ('byju', 13289),\n",
       " ('...', 12987),\n",
       " ('please', 12298),\n",
       " ('study', 12286),\n",
       " ('love', 11443),\n",
       " ('really', 11286),\n",
       " ('students', 11189),\n",
       " ('..', 10188),\n",
       " ('much', 9945),\n",
       " ('also', 9895),\n",
       " ('helpful', 9108),\n",
       " ('understand', 8704),\n",
       " ('amazing', 8604),\n",
       " ('useful', 8494),\n",
       " ('bad', 8417),\n",
       " ('great', 8288),\n",
       " ('class', 7355),\n",
       " ('easy', 7299),\n",
       " ('videos', 7294),\n",
       " ('one', 7027),\n",
       " ('video', 6798),\n",
       " ('time', 6577),\n",
       " ('super', 6519),\n",
       " ('....', 6444),\n",
       " ('download', 6313),\n",
       " ('worst', 6162),\n",
       " ('give', 5996),\n",
       " ('awesome', 5930),\n",
       " ('help', 5771),\n",
       " ('thank', 5707),\n",
       " ('us', 5666),\n",
       " ('better', 5593),\n",
       " ('want', 5576),\n",
       " ('aap', 5550),\n",
       " ('use', 5496),\n",
       " ('excellent', 5349),\n",
       " ('u', 5331),\n",
       " ('problem', 5244),\n",
       " ('way', 5132),\n",
       " ('ever', 5099)]"
      ]
     },
     "execution_count": 100,
     "metadata": {},
     "output_type": "execute_result"
    }
   ],
   "source": [
    "bow_most_common = bow_clean_fd.most_common(50)\n",
    "bow_most_common"
   ]
  },
  {
   "cell_type": "code",
   "execution_count": 101,
   "id": "02541ee7-7afc-46e0-bcff-b9fd5b1b770a",
   "metadata": {},
   "outputs": [
    {
     "data": {
      "text/html": [
       "<div>\n",
       "<style scoped>\n",
       "    .dataframe tbody tr th:only-of-type {\n",
       "        vertical-align: middle;\n",
       "    }\n",
       "\n",
       "    .dataframe tbody tr th {\n",
       "        vertical-align: top;\n",
       "    }\n",
       "\n",
       "    .dataframe thead th {\n",
       "        text-align: right;\n",
       "    }\n",
       "</style>\n",
       "<table border=\"1\" class=\"dataframe\">\n",
       "  <thead>\n",
       "    <tr style=\"text-align: right;\">\n",
       "      <th></th>\n",
       "      <th>id</th>\n",
       "      <th>neg</th>\n",
       "      <th>neu</th>\n",
       "      <th>pos</th>\n",
       "      <th>compound</th>\n",
       "      <th>userName</th>\n",
       "      <th>content</th>\n",
       "      <th>score</th>\n",
       "      <th>thumbsUpCount</th>\n",
       "      <th>reviewCreatedVersion</th>\n",
       "      <th>at</th>\n",
       "      <th>replyContent</th>\n",
       "      <th>repliedAt</th>\n",
       "      <th>review_len</th>\n",
       "      <th>sentiment</th>\n",
       "    </tr>\n",
       "  </thead>\n",
       "  <tbody>\n",
       "    <tr>\n",
       "      <th>11</th>\n",
       "      <td>12</td>\n",
       "      <td>0.116</td>\n",
       "      <td>0.798</td>\n",
       "      <td>0.086</td>\n",
       "      <td>-0.5499</td>\n",
       "      <td>HOME LOAN</td>\n",
       "      <td>In some topics it gets lacking it again and ag...</td>\n",
       "      <td>1</td>\n",
       "      <td>1479</td>\n",
       "      <td>7.5.0.9729</td>\n",
       "      <td>2020-12-26 09:59:50</td>\n",
       "      <td>&lt;NA&gt;</td>\n",
       "      <td>NaT</td>\n",
       "      <td>380</td>\n",
       "      <td>neg</td>\n",
       "    </tr>\n",
       "    <tr>\n",
       "      <th>22</th>\n",
       "      <td>23</td>\n",
       "      <td>0.205</td>\n",
       "      <td>0.715</td>\n",
       "      <td>0.081</td>\n",
       "      <td>-0.9144</td>\n",
       "      <td>Srajal Singh</td>\n",
       "      <td>Earlier i use to love this app but now what th...</td>\n",
       "      <td>1</td>\n",
       "      <td>867</td>\n",
       "      <td>9.12.0.12860</td>\n",
       "      <td>2022-03-10 23:28:48</td>\n",
       "      <td>We apologise for the inconvenience. We are inv...</td>\n",
       "      <td>2022-03-11 12:05:46</td>\n",
       "      <td>373</td>\n",
       "      <td>neg</td>\n",
       "    </tr>\n",
       "    <tr>\n",
       "      <th>28</th>\n",
       "      <td>29</td>\n",
       "      <td>0.081</td>\n",
       "      <td>0.820</td>\n",
       "      <td>0.099</td>\n",
       "      <td>0.4228</td>\n",
       "      <td>Sudeshna Majumder</td>\n",
       "      <td>I loved the app before yesterday. I opened a B...</td>\n",
       "      <td>1</td>\n",
       "      <td>702</td>\n",
       "      <td>8.4.0.11158</td>\n",
       "      <td>2021-05-26 19:49:09</td>\n",
       "      <td>We are extremely sorry that you had an unpleas...</td>\n",
       "      <td>2021-05-27 20:12:35</td>\n",
       "      <td>498</td>\n",
       "      <td>pos</td>\n",
       "    </tr>\n",
       "    <tr>\n",
       "      <th>83</th>\n",
       "      <td>84</td>\n",
       "      <td>0.068</td>\n",
       "      <td>0.643</td>\n",
       "      <td>0.289</td>\n",
       "      <td>0.9556</td>\n",
       "      <td>Bollam Navya yadav</td>\n",
       "      <td>The byjus app is so good and it's visuals and ...</td>\n",
       "      <td>1</td>\n",
       "      <td>355</td>\n",
       "      <td>6.3.0.8660</td>\n",
       "      <td>2020-08-01 19:53:33</td>\n",
       "      <td>\"Apologies for the inconvenience. Please drop ...</td>\n",
       "      <td>2020-08-05 15:33:49</td>\n",
       "      <td>348</td>\n",
       "      <td>pos</td>\n",
       "    </tr>\n",
       "    <tr>\n",
       "      <th>141</th>\n",
       "      <td>142</td>\n",
       "      <td>0.160</td>\n",
       "      <td>0.637</td>\n",
       "      <td>0.203</td>\n",
       "      <td>0.3646</td>\n",
       "      <td>A Google user</td>\n",
       "      <td>First in beginning I felt that it is a good ap...</td>\n",
       "      <td>1</td>\n",
       "      <td>217</td>\n",
       "      <td>5.7.0.7846</td>\n",
       "      <td>2020-03-10 14:07:02</td>\n",
       "      <td>We would like to hear your feedback to make su...</td>\n",
       "      <td>2020-03-23 19:39:32</td>\n",
       "      <td>350</td>\n",
       "      <td>pos</td>\n",
       "    </tr>\n",
       "    <tr>\n",
       "      <th>...</th>\n",
       "      <td>...</td>\n",
       "      <td>...</td>\n",
       "      <td>...</td>\n",
       "      <td>...</td>\n",
       "      <td>...</td>\n",
       "      <td>...</td>\n",
       "      <td>...</td>\n",
       "      <td>...</td>\n",
       "      <td>...</td>\n",
       "      <td>...</td>\n",
       "      <td>...</td>\n",
       "      <td>...</td>\n",
       "      <td>...</td>\n",
       "      <td>...</td>\n",
       "      <td>...</td>\n",
       "    </tr>\n",
       "    <tr>\n",
       "      <th>287921</th>\n",
       "      <td>287922</td>\n",
       "      <td>0.000</td>\n",
       "      <td>0.192</td>\n",
       "      <td>0.808</td>\n",
       "      <td>0.6369</td>\n",
       "      <td>Domnic Dias</td>\n",
       "      <td>I love it</td>\n",
       "      <td>5</td>\n",
       "      <td>0</td>\n",
       "      <td>6.1.2.8367</td>\n",
       "      <td>2020-07-09 12:44:59</td>\n",
       "      <td>&lt;NA&gt;</td>\n",
       "      <td>NaT</td>\n",
       "      <td>9</td>\n",
       "      <td>pos</td>\n",
       "    </tr>\n",
       "    <tr>\n",
       "      <th>287932</th>\n",
       "      <td>287933</td>\n",
       "      <td>0.000</td>\n",
       "      <td>0.196</td>\n",
       "      <td>0.804</td>\n",
       "      <td>0.6240</td>\n",
       "      <td>Shubhada Abhyankar</td>\n",
       "      <td>Most lovely</td>\n",
       "      <td>5</td>\n",
       "      <td>0</td>\n",
       "      <td>6.1.2.8367</td>\n",
       "      <td>2020-07-18 10:29:12</td>\n",
       "      <td>&lt;NA&gt;</td>\n",
       "      <td>NaT</td>\n",
       "      <td>11</td>\n",
       "      <td>pos</td>\n",
       "    </tr>\n",
       "    <tr>\n",
       "      <th>288120</th>\n",
       "      <td>288121</td>\n",
       "      <td>0.000</td>\n",
       "      <td>0.192</td>\n",
       "      <td>0.808</td>\n",
       "      <td>0.6369</td>\n",
       "      <td>MAiiB School of English</td>\n",
       "      <td>I love it</td>\n",
       "      <td>5</td>\n",
       "      <td>0</td>\n",
       "      <td>6.1.2.8367</td>\n",
       "      <td>2020-07-04 16:43:08</td>\n",
       "      <td>&lt;NA&gt;</td>\n",
       "      <td>NaT</td>\n",
       "      <td>9</td>\n",
       "      <td>pos</td>\n",
       "    </tr>\n",
       "    <tr>\n",
       "      <th>288133</th>\n",
       "      <td>288134</td>\n",
       "      <td>0.000</td>\n",
       "      <td>0.192</td>\n",
       "      <td>0.808</td>\n",
       "      <td>0.6369</td>\n",
       "      <td>Juber Ahmad</td>\n",
       "      <td>I love it</td>\n",
       "      <td>5</td>\n",
       "      <td>0</td>\n",
       "      <td>6.1.2.8367</td>\n",
       "      <td>2020-07-27 20:29:01</td>\n",
       "      <td>\"Thank you so much for reviewing our app:). Ke...</td>\n",
       "      <td>2020-07-28 17:17:56</td>\n",
       "      <td>9</td>\n",
       "      <td>pos</td>\n",
       "    </tr>\n",
       "    <tr>\n",
       "      <th>289102</th>\n",
       "      <td>289103</td>\n",
       "      <td>0.000</td>\n",
       "      <td>0.227</td>\n",
       "      <td>0.773</td>\n",
       "      <td>0.5267</td>\n",
       "      <td>Azizul OK</td>\n",
       "      <td>Srk lovers</td>\n",
       "      <td>5</td>\n",
       "      <td>0</td>\n",
       "      <td>6.1.2.8367</td>\n",
       "      <td>2020-07-05 02:28:59</td>\n",
       "      <td>&lt;NA&gt;</td>\n",
       "      <td>NaT</td>\n",
       "      <td>10</td>\n",
       "      <td>pos</td>\n",
       "    </tr>\n",
       "  </tbody>\n",
       "</table>\n",
       "<p>12125 rows × 15 columns</p>\n",
       "</div>"
      ],
      "text/plain": [
       "            id    neg    neu    pos  compound                 userName  \\\n",
       "11          12  0.116  0.798  0.086   -0.5499                HOME LOAN   \n",
       "22          23  0.205  0.715  0.081   -0.9144             Srajal Singh   \n",
       "28          29  0.081  0.820  0.099    0.4228        Sudeshna Majumder   \n",
       "83          84  0.068  0.643  0.289    0.9556       Bollam Navya yadav   \n",
       "141        142  0.160  0.637  0.203    0.3646            A Google user   \n",
       "...        ...    ...    ...    ...       ...                      ...   \n",
       "287921  287922  0.000  0.192  0.808    0.6369              Domnic Dias   \n",
       "287932  287933  0.000  0.196  0.804    0.6240       Shubhada Abhyankar   \n",
       "288120  288121  0.000  0.192  0.808    0.6369  MAiiB School of English   \n",
       "288133  288134  0.000  0.192  0.808    0.6369              Juber Ahmad   \n",
       "289102  289103  0.000  0.227  0.773    0.5267                Azizul OK   \n",
       "\n",
       "                                                  content  score  \\\n",
       "11      In some topics it gets lacking it again and ag...      1   \n",
       "22      Earlier i use to love this app but now what th...      1   \n",
       "28      I loved the app before yesterday. I opened a B...      1   \n",
       "83      The byjus app is so good and it's visuals and ...      1   \n",
       "141     First in beginning I felt that it is a good ap...      1   \n",
       "...                                                   ...    ...   \n",
       "287921                                          I love it      5   \n",
       "287932                                        Most lovely      5   \n",
       "288120                                          I love it      5   \n",
       "288133                                          I love it      5   \n",
       "289102                                         Srk lovers      5   \n",
       "\n",
       "        thumbsUpCount reviewCreatedVersion                  at  \\\n",
       "11               1479           7.5.0.9729 2020-12-26 09:59:50   \n",
       "22                867         9.12.0.12860 2022-03-10 23:28:48   \n",
       "28                702          8.4.0.11158 2021-05-26 19:49:09   \n",
       "83                355           6.3.0.8660 2020-08-01 19:53:33   \n",
       "141               217           5.7.0.7846 2020-03-10 14:07:02   \n",
       "...               ...                  ...                 ...   \n",
       "287921              0           6.1.2.8367 2020-07-09 12:44:59   \n",
       "287932              0           6.1.2.8367 2020-07-18 10:29:12   \n",
       "288120              0           6.1.2.8367 2020-07-04 16:43:08   \n",
       "288133              0           6.1.2.8367 2020-07-27 20:29:01   \n",
       "289102              0           6.1.2.8367 2020-07-05 02:28:59   \n",
       "\n",
       "                                             replyContent           repliedAt  \\\n",
       "11                                                   <NA>                 NaT   \n",
       "22      We apologise for the inconvenience. We are inv... 2022-03-11 12:05:46   \n",
       "28      We are extremely sorry that you had an unpleas... 2021-05-27 20:12:35   \n",
       "83      \"Apologies for the inconvenience. Please drop ... 2020-08-05 15:33:49   \n",
       "141     We would like to hear your feedback to make su... 2020-03-23 19:39:32   \n",
       "...                                                   ...                 ...   \n",
       "287921                                               <NA>                 NaT   \n",
       "287932                                               <NA>                 NaT   \n",
       "288120                                               <NA>                 NaT   \n",
       "288133  \"Thank you so much for reviewing our app:). Ke... 2020-07-28 17:17:56   \n",
       "289102                                               <NA>                 NaT   \n",
       "\n",
       "        review_len sentiment  \n",
       "11             380       neg  \n",
       "22             373       neg  \n",
       "28             498       pos  \n",
       "83             348       pos  \n",
       "141            350       pos  \n",
       "...            ...       ...  \n",
       "287921           9       pos  \n",
       "287932          11       pos  \n",
       "288120           9       pos  \n",
       "288133           9       pos  \n",
       "289102          10       pos  \n",
       "\n",
       "[12125 rows x 15 columns]"
      ]
     },
     "execution_count": 101,
     "metadata": {},
     "output_type": "execute_result"
    }
   ],
   "source": [
    "#Finding rows containing words\n",
    "df_sia[df_sia['content'].str.contains(\"love\" or \"it\")]"
   ]
  },
  {
   "cell_type": "code",
   "execution_count": 102,
   "id": "17251a1c-560d-4004-8314-21bc95bccbcb",
   "metadata": {},
   "outputs": [
    {
     "data": {
      "text/plain": [
       "[('app', 156002),\n",
       " ('good', 68066),\n",
       " ('nice', 37963),\n",
       " ('learning', 37186),\n",
       " (\"'s\", 35592),\n",
       " ('best', 26851),\n",
       " (\"n't\", 17061),\n",
       " ('like', 15995),\n",
       " ('learn', 14155),\n",
       " ('byjus', 14097)]"
      ]
     },
     "execution_count": 102,
     "metadata": {},
     "output_type": "execute_result"
    }
   ],
   "source": [
    "bow_clean_fd.most_common(10)"
   ]
  },
  {
   "cell_type": "code",
   "execution_count": null,
   "id": "3810e3fc-7a44-4f9b-9487-b352be089637",
   "metadata": {},
   "outputs": [],
   "source": [
    "289000*"
   ]
  },
  {
   "cell_type": "code",
   "execution_count": null,
   "id": "ff86cd4d-6ddb-4259-9df4-fed8838c3003",
   "metadata": {},
   "outputs": [],
   "source": []
  }
 ],
 "metadata": {
  "kernelspec": {
   "display_name": "Python 3",
   "language": "python",
   "name": "python3"
  },
  "language_info": {
   "codemirror_mode": {
    "name": "ipython",
    "version": 3
   },
   "file_extension": ".py",
   "mimetype": "text/x-python",
   "name": "python",
   "nbconvert_exporter": "python",
   "pygments_lexer": "ipython3",
   "version": "3.8.8"
  }
 },
 "nbformat": 4,
 "nbformat_minor": 5
}
